{
  "nbformat": 4,
  "nbformat_minor": 0,
  "metadata": {
    "colab": {
      "provenance": [],
      "toc_visible": true
    },
    "kernelspec": {
      "name": "python3",
      "display_name": "Python 3"
    },
    "language_info": {
      "name": "python"
    }
  },
  "cells": [
    {
      "cell_type": "markdown",
      "metadata": {
        "id": "SeRy_Ng0lfDT"
      },
      "source": [
        "<center><img src='https://drive.google.com/uc?id=1_utx_ZGclmCwNttSe40kYA6VHzNocdET' height=\"60\"></center>\n",
        "\n",
        "AI TECH - Akademia Innowacyjnych Zastosowań Technologii Cyfrowych. Program Operacyjny Polska Cyfrowa na lata 2014-2020\n",
        "<hr>\n",
        "\n",
        "<center><img src='https://drive.google.com/uc?id=1BXZ0u3562N_MqCLcekI-Ens77Kk4LpPm'></center>\n",
        "\n",
        "<center>\n",
        "Projekt współfinansowany ze środków Unii Europejskiej w ramach Europejskiego Funduszu Rozwoju Regionalnego\n",
        "Program Operacyjny Polska Cyfrowa na lata 2014-2020,\n",
        "Oś Priorytetowa nr 3 \"Cyfrowe kompetencje społeczeństwa\" Działanie  nr 3.2 \"Innowacyjne rozwiązania na rzecz aktywizacji cyfrowej\"\n",
        "Tytuł projektu:  „Akademia Innowacyjnych Zastosowań Technologii Cyfrowych (AI Tech)”\n",
        "    </center>\n",
        "\n",
        "# Statistical machine learning - Notebook 1\n",
        "\n",
        "**Author: Maciej Bartczak**\n",
        "\n"
      ]
    },
    {
      "cell_type": "markdown",
      "metadata": {
        "id": "-ylA7nFWkahP"
      },
      "source": [
        "# Bootcamp - introduction to machine learning: NumPy & Pandas\n"
      ]
    },
    {
      "cell_type": "markdown",
      "metadata": {
        "id": "UyaGujEdkxNP"
      },
      "source": [
        "## What is NumPy?\n",
        "\n",
        "NumPy is the fundamental package for scientific computing in Python. It is a Python library that provides a multidimensional array object and an assortment of routines for fast operations on arrays, including mathematical, logical, shape manipulation, sorting, selecting, I/O, basic linear algebra, statistical operations, random simulation and much more.\n",
        "\n",
        "At the core of the NumPy package, is the ndarray object. This encapsulates n-dimensional arrays of homogeneous data types, with many operations being performed in compiled code for performance. There are several important differences between NumPy arrays and the standard Python sequences:\n",
        "\n",
        "- The elements in a NumPy array are all required to be of the same data type, and thus will be the same size in memory. The exception: one can have arrays of (Python, including NumPy) objects, thereby allowing for arrays of different sized elements.\n",
        "\n",
        "- NumPy arrays facilitate advanced mathematical and other types of operations on large numbers of data. Typically, **such operations are executed more efficiently and with less code than is possible using Python’s built-in sequences**.\n",
        "\n",
        "- A growing plethora of scientific and mathematical Python-based packages are using NumPy arrays; though these typically support Python-sequence input, they convert such input to NumPy arrays prior to processing, and they often output NumPy arrays. In other words, in order to efficiently use much (perhaps even most) of today’s scientific/mathematical Python-based software, just knowing how to use Python’s built-in sequence types is insufficient - one also needs to know how to use NumPy arrays.\n",
        "\n",
        "\n",
        "\n",
        "from: https://numpy.org/doc/stable/user/whatisnumpy.html"
      ]
    },
    {
      "cell_type": "code",
      "metadata": {
        "id": "IbloavGiHlwp"
      },
      "source": [
        "import numpy as np\n",
        "import matplotlib.pyplot as plt"
      ],
      "execution_count": null,
      "outputs": []
    },
    {
      "cell_type": "markdown",
      "metadata": {
        "id": "W80hh5i_nJWl"
      },
      "source": [
        "## Array creation\n",
        "\n",
        "There are multiple ways to create an array, try examples below."
      ]
    },
    {
      "cell_type": "markdown",
      "metadata": {
        "id": "WEq2aTpyoQ1m"
      },
      "source": [
        "### From nested lists"
      ]
    },
    {
      "cell_type": "code",
      "metadata": {
        "id": "fBA-gIIcndlB"
      },
      "source": [
        "array_1d = np.array([1, 2, 3, 4, 5])\n",
        "array_1d"
      ],
      "execution_count": null,
      "outputs": []
    },
    {
      "cell_type": "code",
      "metadata": {
        "id": "rOjlDLLanl7a"
      },
      "source": [
        "array_2d = np.array(\n",
        "  [\n",
        "    [1,  2,  3,  4,  5 ],\n",
        "    [6,  7,  8,  9,  10],\n",
        "    [11, 12, 13, 14, 15]\n",
        "  ]\n",
        ")\n",
        "array_2d"
      ],
      "execution_count": null,
      "outputs": []
    },
    {
      "cell_type": "code",
      "metadata": {
        "id": "TzXqVFDdqXbo"
      },
      "source": [
        "array_3d = np.array(\n",
        "  [\n",
        "    [\n",
        "      [1,  2,  3,  4,  5 ],\n",
        "      [6,  7,  8,  9,  10],\n",
        "      [11, 12, 13, 14, 15],\n",
        "    ],\n",
        "    [\n",
        "      [16, 17, 18, 19, 20],\n",
        "      [21, 22, 23, 24, 25],\n",
        "      [26, 27, 28, 29, 30],\n",
        "    ]\n",
        "  ]\n",
        ")\n",
        "array_3d"
      ],
      "execution_count": null,
      "outputs": []
    },
    {
      "cell_type": "markdown",
      "metadata": {
        "id": "webMxD6uoYze"
      },
      "source": [
        "### Using zeros / ones / full\n",
        "\n"
      ]
    },
    {
      "cell_type": "code",
      "metadata": {
        "id": "jGqitqyTocBD"
      },
      "source": [
        "shape = (2, 3)\n",
        "\n",
        "np.zeros(shape)"
      ],
      "execution_count": null,
      "outputs": []
    },
    {
      "cell_type": "code",
      "metadata": {
        "id": "cdSok2u-pSPd"
      },
      "source": [
        "np.ones(shape)"
      ],
      "execution_count": null,
      "outputs": []
    },
    {
      "cell_type": "code",
      "metadata": {
        "id": "RCN5_xuhpUQd"
      },
      "source": [
        "fill_value = 42\n",
        "np.full(shape, fill_value)"
      ],
      "execution_count": null,
      "outputs": []
    },
    {
      "cell_type": "markdown",
      "metadata": {
        "id": "9cSS0vIQpiz5"
      },
      "source": [
        "### Using zeros_like / ones_like / full_like"
      ]
    },
    {
      "cell_type": "code",
      "metadata": {
        "id": "joGdJhWKpf1u"
      },
      "source": [
        "np.zeros_like(array_2d)"
      ],
      "execution_count": null,
      "outputs": []
    },
    {
      "cell_type": "code",
      "metadata": {
        "id": "u_1eS6Tlpu_V"
      },
      "source": [
        "np.ones_like(array_2d)"
      ],
      "execution_count": null,
      "outputs": []
    },
    {
      "cell_type": "code",
      "metadata": {
        "id": "OIfdmB0ipwum"
      },
      "source": [
        "fill_value = 42\n",
        "np.full_like(array_2d, fill_value)"
      ],
      "execution_count": null,
      "outputs": []
    },
    {
      "cell_type": "markdown",
      "metadata": {
        "id": "QHpb58Mlstlf"
      },
      "source": [
        "### Using arange / linspace (1D arrays only)\n",
        "\n",
        "which are used to fill an array with values from the interval $[low, high]$ with specific step or number of points."
      ]
    },
    {
      "cell_type": "code",
      "metadata": {
        "id": "RXj5fzEtsw8j"
      },
      "source": [
        "start = 0\n",
        "stop  = 1\n",
        "step  = 0.1\n",
        "\n",
        "np.arange(start, stop, step)"
      ],
      "execution_count": null,
      "outputs": []
    },
    {
      "cell_type": "code",
      "metadata": {
        "id": "ZIeKi-TXtqYv"
      },
      "source": [
        "np.arange(start, stop + 1e-4, step)"
      ],
      "execution_count": null,
      "outputs": []
    },
    {
      "cell_type": "code",
      "metadata": {
        "id": "boiLTInxt0lW"
      },
      "source": [
        "n_steps = int((stop-start)/step) + 1\n",
        "np.linspace(start, stop, n_steps)"
      ],
      "execution_count": null,
      "outputs": []
    },
    {
      "cell_type": "markdown",
      "metadata": {
        "id": "Xb_VL-mF3eOK"
      },
      "source": [
        "### Using identity / diag (2D arrays only)\n",
        " to create identity or diagonal (with optional offset) matrices."
      ]
    },
    {
      "cell_type": "code",
      "metadata": {
        "id": "It68UUiU3dwQ"
      },
      "source": [
        "n = 4\n",
        "np.identity(n)"
      ],
      "execution_count": null,
      "outputs": []
    },
    {
      "cell_type": "code",
      "metadata": {
        "id": "1FLjhK1C4Ec6"
      },
      "source": [
        "np.diag([1, 2, 3, 4])"
      ],
      "execution_count": null,
      "outputs": []
    },
    {
      "cell_type": "code",
      "metadata": {
        "id": "CNk5Kc5p4V5T"
      },
      "source": [
        "offset = 1\n",
        "np.diag([1, 2, 3], offset)"
      ],
      "execution_count": null,
      "outputs": []
    },
    {
      "cell_type": "markdown",
      "metadata": {
        "id": "Y0IyazV4-DV9"
      },
      "source": [
        "### Using meshgrid\n",
        "For 1D arrays X_1, ..., X_n meshgrid behavior is specified as follows\n",
        "\n",
        "```\n",
        "G_1, ..., G_n = np.meshgrid(X_1, ..., X_n, indexing='ij')\n",
        "G_j[i_1, i_2, ..., i_n] = X_j[i_j]\n",
        "\n",
        "G_1, ..., G_n = np.meshgrid(X_1, ..., X_n, indexing='xy')  # default indexing\n",
        "G_j[i_2, i_1, i_3, ..., i_n] = X_j[i_j]\n",
        "```\n",
        "\n",
        "what facilitates creating coordinate grids,\n",
        "\n",
        "\n"
      ]
    },
    {
      "cell_type": "code",
      "metadata": {
        "id": "0SHM6BbM_flY"
      },
      "source": [
        "x = np.array([1, 2, 3], dtype=int)\n",
        "y = np.array([4, 5, 6, 7], dtype=int)\n",
        "\n",
        "x_grid, y_grid = np.meshgrid(x, y, indexing='ij')"
      ],
      "execution_count": null,
      "outputs": []
    },
    {
      "cell_type": "markdown",
      "metadata": {
        "id": "gXGPzDVbj0EO"
      },
      "source": [
        "such as:"
      ]
    },
    {
      "cell_type": "code",
      "metadata": {
        "id": "bWXMGUSv-Cfc"
      },
      "source": [
        "x_grid"
      ],
      "execution_count": null,
      "outputs": []
    },
    {
      "cell_type": "code",
      "metadata": {
        "id": "_W4WNW_V_vqx"
      },
      "source": [
        "y_grid"
      ],
      "execution_count": null,
      "outputs": []
    },
    {
      "cell_type": "code",
      "metadata": {
        "id": "pweUsBo8_z3S"
      },
      "source": [
        "x_grid.shape == y_grid.shape == (len(x), len(y))"
      ],
      "execution_count": null,
      "outputs": []
    },
    {
      "cell_type": "markdown",
      "metadata": {
        "id": "e6mlIrax7hgC"
      },
      "source": [
        "### Using tile & repeat\n",
        "to create an array filled with \"repeating pattern\"."
      ]
    },
    {
      "cell_type": "code",
      "metadata": {
        "id": "DYXekk6v8H2g"
      },
      "source": [
        "array = np.array([0,1,2])"
      ],
      "execution_count": null,
      "outputs": []
    },
    {
      "cell_type": "code",
      "metadata": {
        "id": "yFGyhV4y7yc8"
      },
      "source": [
        "np.tile(array, 2)"
      ],
      "execution_count": null,
      "outputs": []
    },
    {
      "cell_type": "code",
      "metadata": {
        "id": "YtiHvEmC76KX"
      },
      "source": [
        "np.tile(array, (2, 1))"
      ],
      "execution_count": null,
      "outputs": []
    },
    {
      "cell_type": "code",
      "metadata": {
        "id": "ivQi_Yr58FSV"
      },
      "source": [
        "np.repeat(array, 2)"
      ],
      "execution_count": null,
      "outputs": []
    },
    {
      "cell_type": "code",
      "metadata": {
        "id": "kYKNAtvs8VE2"
      },
      "source": [
        "np.repeat(array, 2, axis=0)"
      ],
      "execution_count": null,
      "outputs": []
    },
    {
      "cell_type": "code",
      "metadata": {
        "id": "jb1KKdp18chc"
      },
      "source": [
        "np.repeat(array.reshape(1, -1), 2, axis=0)"
      ],
      "execution_count": null,
      "outputs": []
    },
    {
      "cell_type": "code",
      "metadata": {
        "id": "F7Mqcyj-8wsO"
      },
      "source": [
        "np.repeat(array.reshape(1, -1), 2, axis=1)"
      ],
      "execution_count": null,
      "outputs": []
    },
    {
      "cell_type": "markdown",
      "metadata": {
        "id": "Bvo7c15Z4uyl"
      },
      "source": [
        "## NumPy dtypes\n",
        "\n",
        "Full list of NumPy dtypes is available here: https://numpy.org/doc/stable/user/basics.types.html\n",
        "\n",
        "Among which there are 5 basic numerical types representing booleans (bool), integers (int), unsigned integers (uint) floating point (float) and complex.\n",
        "\n",
        "Data-types can be used as arguments to the dtype keyword that many numpy functions or methods accept, in particular array creation routines.\n",
        "\n",
        "See examples below."
      ]
    },
    {
      "cell_type": "code",
      "metadata": {
        "id": "71bkCN7u4uF1"
      },
      "source": [
        "np.array([1, 2, 3, 4, 5], dtype=int)"
      ],
      "execution_count": null,
      "outputs": []
    },
    {
      "cell_type": "code",
      "metadata": {
        "id": "pG-Kev4U66cU"
      },
      "source": [
        "np.array([1, 2, 3, 4, 5], dtype=float)"
      ],
      "execution_count": null,
      "outputs": []
    },
    {
      "cell_type": "code",
      "metadata": {
        "id": "GIvrCwdq6_Mk"
      },
      "source": [
        "np.array([1, 2, 3, 4, 5], dtype=complex)"
      ],
      "execution_count": null,
      "outputs": []
    },
    {
      "cell_type": "markdown",
      "metadata": {
        "id": "eLPy8VOR7MSH"
      },
      "source": [
        "Types can be cast as follows"
      ]
    },
    {
      "cell_type": "code",
      "metadata": {
        "id": "aXDd4Is-7pd1"
      },
      "source": [
        "float_array   = np.array([1, 2, 3, 4, 5], dtype=float)\n",
        "complex_array = float_array.astype(complex)\n",
        "\n",
        "float_array, float_array.dtype"
      ],
      "execution_count": null,
      "outputs": []
    },
    {
      "cell_type": "code",
      "metadata": {
        "id": "XZ4nwgP08DdW"
      },
      "source": [
        "complex_array, complex_array.dtype"
      ],
      "execution_count": null,
      "outputs": []
    },
    {
      "cell_type": "markdown",
      "metadata": {
        "id": "ZHAX35DzIV6f"
      },
      "source": [
        "## Saving / loading data"
      ]
    },
    {
      "cell_type": "markdown",
      "metadata": {
        "id": "a8JqT2YNIYLT"
      },
      "source": [
        "### Using savetxt / loadtxt\n",
        "\n",
        "to process a single 1D/2D array in human readable format. File created with `savetxt` can be easily accessed with a text editor"
      ]
    },
    {
      "cell_type": "code",
      "metadata": {
        "id": "DzZhxR8GIjZ8"
      },
      "source": [
        "data = np.array(\n",
        "  [\n",
        "    [1, 2],\n",
        "    [3, 4],\n",
        "  ]\n",
        ")\n",
        "\n",
        "np.savetxt('data.txt', data)\n",
        "!cat data.txt"
      ],
      "execution_count": null,
      "outputs": []
    },
    {
      "cell_type": "markdown",
      "metadata": {
        "id": "4NbX_OQvlGWJ"
      },
      "source": [
        "as well as seamlessly loaded back with `loadtxt`.\n"
      ]
    },
    {
      "cell_type": "code",
      "metadata": {
        "id": "Qhb4Lak7Ke6T"
      },
      "source": [
        "np.loadtxt('data.txt')"
      ],
      "execution_count": null,
      "outputs": []
    },
    {
      "cell_type": "markdown",
      "metadata": {
        "id": "HQphHlhfJeJR"
      },
      "source": [
        "File format can be specified, see https://numpy.org/doc/stable/reference/generated/numpy.savetxt.html for reference"
      ]
    },
    {
      "cell_type": "code",
      "metadata": {
        "id": "USsR9kCDIsVk"
      },
      "source": [
        "np.savetxt('data.txt', data, fmt='%.2f')\n",
        "!cat data.txt"
      ],
      "execution_count": null,
      "outputs": []
    },
    {
      "cell_type": "code",
      "metadata": {
        "id": "d0Gzo5ZWLV8N"
      },
      "source": [
        "np.savetxt('data.txt', data, fmt='%d')\n",
        "!cat data.txt"
      ],
      "execution_count": null,
      "outputs": []
    },
    {
      "cell_type": "markdown",
      "metadata": {
        "id": "YjGhKKPELdhN"
      },
      "source": [
        "Nevertheless information regarding dtype is not preserved."
      ]
    },
    {
      "cell_type": "code",
      "metadata": {
        "id": "mTXW5ua_LHoU"
      },
      "source": [
        "np.loadtxt('data.txt')"
      ],
      "execution_count": null,
      "outputs": []
    },
    {
      "cell_type": "code",
      "metadata": {
        "id": "vz3si1gRLKs9"
      },
      "source": [
        "np.loadtxt('data.txt', dtype=int)"
      ],
      "execution_count": null,
      "outputs": []
    },
    {
      "cell_type": "markdown",
      "metadata": {
        "id": "j_VJpd3LlxHY"
      },
      "source": [
        "`savetxt` method can be used to save an array in csv format, we only need to specify the proper delimiter"
      ]
    },
    {
      "cell_type": "code",
      "metadata": {
        "id": "S-PlqdM0lZDY"
      },
      "source": [
        "np.savetxt('data.csv', data, delimiter=',', fmt='%.2f')\n",
        "!cat data.csv"
      ],
      "execution_count": null,
      "outputs": []
    },
    {
      "cell_type": "markdown",
      "metadata": {
        "id": "RDOnFgRNmPlM"
      },
      "source": [
        "as well as loaded back"
      ]
    },
    {
      "cell_type": "code",
      "metadata": {
        "id": "ENHRU23jmRZc"
      },
      "source": [
        "np.loadtxt('data.csv', delimiter=',')"
      ],
      "execution_count": null,
      "outputs": []
    },
    {
      "cell_type": "markdown",
      "metadata": {
        "id": "ugKAZugbLycP"
      },
      "source": [
        "### Using save / load\n",
        "to process an arbitrary array in binary format. Unfortunately the resulting file is not human readable. On the other hand these methods can handle array of arbitrary shape and preserve the underlying dtype."
      ]
    },
    {
      "cell_type": "code",
      "metadata": {
        "id": "2lTtexfcMEu3"
      },
      "source": [
        "data = np.array(\n",
        "  [\n",
        "    [\n",
        "      [1, 2],\n",
        "      [3, 4],\n",
        "    ]\n",
        "  ]\n",
        ")\n",
        "\n",
        "np.save('data.npy', data)\n",
        "\n",
        "!cat data.npy"
      ],
      "execution_count": null,
      "outputs": []
    },
    {
      "cell_type": "code",
      "metadata": {
        "id": "1Pk_OTk2MHqL"
      },
      "source": [
        "np.load('data.npy')"
      ],
      "execution_count": null,
      "outputs": []
    },
    {
      "cell_type": "code",
      "metadata": {
        "id": "zYrC513RMMh6"
      },
      "source": [
        "np.load('data.npy').dtype == data.dtype"
      ],
      "execution_count": null,
      "outputs": []
    },
    {
      "cell_type": "markdown",
      "metadata": {
        "id": "lkpcm3PlMXtv"
      },
      "source": [
        "### Using savez / load\n",
        "\n",
        "to process **multiple** arbitrary arrays in binary format. The result of the load operation is an object of dictionary-like structure."
      ]
    },
    {
      "cell_type": "code",
      "metadata": {
        "id": "-bn26s1dMXtv"
      },
      "source": [
        "array_1 = np.array([1, 2, 3], dtype=int)\n",
        "array_2 = np.array([[4, 5, 6]], dtype=float)\n",
        "array_3 = np.array([[[7, 8, 9]]], dtype=complex)\n",
        "\n",
        "np.savez('data.npz', array_1, array_2, some_name=array_3)\n",
        "loaded_data = np.load('data.npz')\n",
        "loaded_data.files"
      ],
      "execution_count": null,
      "outputs": []
    },
    {
      "cell_type": "code",
      "metadata": {
        "id": "FiwGug7xMXtw"
      },
      "source": [
        "loaded_data['arr_0']"
      ],
      "execution_count": null,
      "outputs": []
    },
    {
      "cell_type": "code",
      "metadata": {
        "id": "rHCoJAwdOGxd"
      },
      "source": [
        "loaded_data['arr_1']"
      ],
      "execution_count": null,
      "outputs": []
    },
    {
      "cell_type": "code",
      "metadata": {
        "id": "Kgv1HwOnMXtx"
      },
      "source": [
        "loaded_data['some_name']"
      ],
      "execution_count": null,
      "outputs": []
    },
    {
      "cell_type": "markdown",
      "metadata": {
        "id": "7pPE-mrEAB4T"
      },
      "source": [
        "### Using savez_compressed / load\n",
        "to process multiple arbitrary arrays in binary format with compression. It behaves just as savez but the resulting file is also compressed, what save space on the disk.\n",
        "\n"
      ]
    },
    {
      "cell_type": "code",
      "metadata": {
        "id": "xtWLF3gknZyN"
      },
      "source": [
        "shape = (1000, 1000)\n",
        "data = np.ones(shape)\n",
        "np.savez('data_uncompressed.npz', data)\n",
        "np.savez_compressed('data_compressed.npz', data)"
      ],
      "execution_count": null,
      "outputs": []
    },
    {
      "cell_type": "markdown",
      "metadata": {
        "id": "xZac4u3Qn6rB"
      },
      "source": [
        "We can compare the filesizes with `ls` command."
      ]
    },
    {
      "cell_type": "code",
      "metadata": {
        "id": "EYY-wyecn_VR"
      },
      "source": [
        "!ls data_*compressed.npz -lh"
      ],
      "execution_count": null,
      "outputs": []
    },
    {
      "cell_type": "markdown",
      "metadata": {
        "id": "u7MwrG5zOd0u"
      },
      "source": [
        "## Shape manipulation\n",
        "It is possible to change the structure of data in the array. See examples below."
      ]
    },
    {
      "cell_type": "markdown",
      "metadata": {
        "id": "HcfnlAKZRybF"
      },
      "source": [
        "#### Reshape"
      ]
    },
    {
      "cell_type": "code",
      "metadata": {
        "id": "BV0M5pEUR7uZ"
      },
      "source": [
        "data = np.arange(0, 12, 1, dtype = int)\n",
        "data"
      ],
      "execution_count": null,
      "outputs": []
    },
    {
      "cell_type": "code",
      "metadata": {
        "id": "W32PRVRRSP6C"
      },
      "source": [
        "data.reshape(3, 4)"
      ],
      "execution_count": null,
      "outputs": []
    },
    {
      "cell_type": "code",
      "metadata": {
        "id": "qrMXwOeWSRtS"
      },
      "source": [
        "data.reshape(4, 3)"
      ],
      "execution_count": null,
      "outputs": []
    },
    {
      "cell_type": "code",
      "metadata": {
        "id": "ABDOg0W_STMb"
      },
      "source": [
        "data_reshaped = data.reshape(2, 3, 2)\n",
        "data_reshaped"
      ],
      "execution_count": null,
      "outputs": []
    },
    {
      "cell_type": "code",
      "metadata": {
        "id": "enjgvo5GSXwr"
      },
      "source": [
        "shape = data_reshaped.shape\n",
        "shape"
      ],
      "execution_count": null,
      "outputs": []
    },
    {
      "cell_type": "markdown",
      "metadata": {
        "id": "E5eLjehcUI54"
      },
      "source": [
        "#### Inferring **one** dimension while usigng reshape method"
      ]
    },
    {
      "cell_type": "code",
      "metadata": {
        "id": "D1uvX6j2UOn1"
      },
      "source": [
        "data.reshape(6, -1)"
      ],
      "execution_count": null,
      "outputs": []
    },
    {
      "cell_type": "code",
      "metadata": {
        "id": "KJKIn8I2UTdY"
      },
      "source": [
        "data.reshape(-1, 6)"
      ],
      "execution_count": null,
      "outputs": []
    },
    {
      "cell_type": "code",
      "metadata": {
        "id": "YVRFWz5KUVyh"
      },
      "source": [
        "data.reshape(3, 2, -1)"
      ],
      "execution_count": null,
      "outputs": []
    },
    {
      "cell_type": "markdown",
      "metadata": {
        "id": "z7JN4va5UFNQ"
      },
      "source": [
        "#### Flatten"
      ]
    },
    {
      "cell_type": "code",
      "metadata": {
        "id": "VbfFSFnNSlKM"
      },
      "source": [
        "data_reshaped.flatten()"
      ],
      "execution_count": null,
      "outputs": []
    },
    {
      "cell_type": "markdown",
      "metadata": {
        "id": "C1Q-G6XiUgHZ"
      },
      "source": [
        "#### Adding / deleting dummy dimensions\n",
        "Facilites vectorized arithmetic with conjunction with broadcasting mechanism (explained later)"
      ]
    },
    {
      "cell_type": "code",
      "metadata": {
        "id": "ttSoPC-4UfH8"
      },
      "source": [
        "data"
      ],
      "execution_count": null,
      "outputs": []
    },
    {
      "cell_type": "code",
      "metadata": {
        "id": "V8u1DSQ4VOks"
      },
      "source": [
        "data.shape"
      ],
      "execution_count": null,
      "outputs": []
    },
    {
      "cell_type": "code",
      "metadata": {
        "id": "u5aGbVEKU5i9"
      },
      "source": [
        "data_expanded1 = np.expand_dims(data, 0)\n",
        "data_expanded1"
      ],
      "execution_count": null,
      "outputs": []
    },
    {
      "cell_type": "code",
      "metadata": {
        "id": "7jf6QbLDVCqr"
      },
      "source": [
        "data_expanded1.shape"
      ],
      "execution_count": null,
      "outputs": []
    },
    {
      "cell_type": "code",
      "metadata": {
        "id": "Vr3DxigtVD9b"
      },
      "source": [
        "data_expanded2 = np.expand_dims(data, 1)\n",
        "data_expanded2"
      ],
      "execution_count": null,
      "outputs": []
    },
    {
      "cell_type": "code",
      "metadata": {
        "id": "V1rEBe5VVHje"
      },
      "source": [
        "data_expanded2.shape"
      ],
      "execution_count": null,
      "outputs": []
    },
    {
      "cell_type": "code",
      "metadata": {
        "id": "CAM7vbmNVLHM"
      },
      "source": [
        "data_expanded3 = np.expand_dims(data_expanded1, 2)\n",
        "data_expanded3"
      ],
      "execution_count": null,
      "outputs": []
    },
    {
      "cell_type": "code",
      "metadata": {
        "id": "xCuzgo84V_QG"
      },
      "source": [
        "data_expanded3.shape"
      ],
      "execution_count": null,
      "outputs": []
    },
    {
      "cell_type": "code",
      "metadata": {
        "id": "s8fcV0ywV_lC"
      },
      "source": [
        "data_squeezed = data_expanded3.squeeze()\n",
        "data_squeezed"
      ],
      "execution_count": null,
      "outputs": []
    },
    {
      "cell_type": "code",
      "metadata": {
        "id": "uykmKsMFWFPJ"
      },
      "source": [
        "data_squeezed.shape"
      ],
      "execution_count": null,
      "outputs": []
    },
    {
      "cell_type": "markdown",
      "metadata": {
        "id": "LpAE74RVWIZ6"
      },
      "source": [
        "#### Transposing\n",
        "\n",
        "For 2D arrays it behaves just as expected (performs matrix transpose)."
      ]
    },
    {
      "cell_type": "code",
      "metadata": {
        "id": "TlDkSdFbWr3S"
      },
      "source": [
        "data = np.arange(0, 4, 1).reshape(2, 2)\n",
        "data"
      ],
      "execution_count": null,
      "outputs": []
    },
    {
      "cell_type": "code",
      "metadata": {
        "id": "LuTAWIIIWztK"
      },
      "source": [
        "data.transpose()"
      ],
      "execution_count": null,
      "outputs": []
    },
    {
      "cell_type": "markdown",
      "metadata": {
        "id": "a1CUvf_SXETi"
      },
      "source": [
        "For higher dimensional arrays its best visualized via observing how the shape changes."
      ]
    },
    {
      "cell_type": "code",
      "metadata": {
        "id": "MoB0Bm2xWdoK"
      },
      "source": [
        "shape = (1, 2, 3, 4)\n",
        "data = np.ones(shape)\n",
        "data.shape"
      ],
      "execution_count": null,
      "outputs": []
    },
    {
      "cell_type": "markdown",
      "metadata": {
        "id": "KhiAsVjqXjHP"
      },
      "source": [
        "The default behavior is to flip dimensions."
      ]
    },
    {
      "cell_type": "code",
      "metadata": {
        "id": "FRtIar69XoTk"
      },
      "source": [
        "data.transpose().shape"
      ],
      "execution_count": null,
      "outputs": []
    },
    {
      "cell_type": "markdown",
      "metadata": {
        "id": "CmLxe99uXsHc"
      },
      "source": [
        "However other permutations of dimensions might be specified."
      ]
    },
    {
      "cell_type": "code",
      "metadata": {
        "id": "rCQvZCdvWiyz"
      },
      "source": [
        "dimensions_permutation = [1, 0, 3, 2]\n",
        "data.transpose(dimensions_permutation).shape"
      ],
      "execution_count": null,
      "outputs": []
    },
    {
      "cell_type": "markdown",
      "metadata": {
        "id": "-wTUj5N4Wj1c"
      },
      "source": [
        "`.T` is a shortand for `.transpose()`"
      ]
    },
    {
      "cell_type": "code",
      "metadata": {
        "id": "jJ0zxRMXYw5H"
      },
      "source": [
        "data.T.shape"
      ],
      "execution_count": null,
      "outputs": []
    },
    {
      "cell_type": "markdown",
      "metadata": {
        "id": "L9ypvo97uHpM"
      },
      "source": [
        "## Concatenation & stacking\n",
        "The following methods are used to merge multiple arrays (with compatible shapes) into one array."
      ]
    },
    {
      "cell_type": "markdown",
      "metadata": {
        "id": "PnRyiUEWvmKc"
      },
      "source": [
        "### concatenate\n",
        "used to join a sequence of arrays along an **existing** axis."
      ]
    },
    {
      "cell_type": "code",
      "metadata": {
        "id": "_AMMldjRuLDk"
      },
      "source": [
        "shape = (4,)\n",
        "array_1 = np.full(shape, 1)\n",
        "array_2 = np.full(shape, 2)\n",
        "\n",
        "array_1, array_2"
      ],
      "execution_count": null,
      "outputs": []
    },
    {
      "cell_type": "code",
      "metadata": {
        "id": "6tmV5Xdxulyk"
      },
      "source": [
        "np.concatenate([array_1, array_2, array_1])"
      ],
      "execution_count": null,
      "outputs": []
    },
    {
      "cell_type": "code",
      "metadata": {
        "id": "qLX4ZlU0u98d"
      },
      "source": [
        "array_1 = array_1.reshape(1, -1)\n",
        "array_2 = array_2.reshape(1, -1)\n",
        "\n",
        "array_1, array_2"
      ],
      "execution_count": null,
      "outputs": []
    },
    {
      "cell_type": "markdown",
      "metadata": {
        "id": "BHsemg62vKqO"
      },
      "source": [
        "The default axis to join on is 0"
      ]
    },
    {
      "cell_type": "code",
      "metadata": {
        "id": "Z6gb6VjvvVjX"
      },
      "source": [
        "np.concatenate([array_1, array_2, array_1])"
      ],
      "execution_count": null,
      "outputs": []
    },
    {
      "cell_type": "markdown",
      "metadata": {
        "id": "0laiWLYsvW3m"
      },
      "source": [
        "But it can be changed"
      ]
    },
    {
      "cell_type": "code",
      "metadata": {
        "id": "A0jUTxCsva4u"
      },
      "source": [
        "np.concatenate([array_1, array_2, array_1], axis=1)"
      ],
      "execution_count": null,
      "outputs": []
    },
    {
      "cell_type": "markdown",
      "metadata": {
        "id": "--40g1HAvqZE"
      },
      "source": [
        "### stack\n",
        "\n",
        "used to stack a sequence of arrays along a **new** axis."
      ]
    },
    {
      "cell_type": "code",
      "metadata": {
        "id": "IQmFfIiZv1n4"
      },
      "source": [
        "shape = (4,)\n",
        "array_1 = np.full(shape, 1)\n",
        "array_2 = np.full(shape, 2)\n",
        "\n",
        "array_1, array_2"
      ],
      "execution_count": null,
      "outputs": []
    },
    {
      "cell_type": "code",
      "metadata": {
        "id": "k4CJsJmLw3nV"
      },
      "source": [
        "np.stack([array_1, array_2, array_1])"
      ],
      "execution_count": null,
      "outputs": []
    },
    {
      "cell_type": "code",
      "metadata": {
        "id": "UPWMHBRLw7YN"
      },
      "source": [
        "np.stack([array_1, array_2, array_1], axis=1)"
      ],
      "execution_count": null,
      "outputs": []
    },
    {
      "cell_type": "markdown",
      "metadata": {
        "id": "29tgPR7jxE0n"
      },
      "source": [
        "\n",
        "### hstack, vstack and dstack\n",
        "stand for horizontal, vertical and depthwise stacking"
      ]
    },
    {
      "cell_type": "code",
      "metadata": {
        "id": "UvYSgl-YxVBf"
      },
      "source": [
        "np.hstack([array_1, array_2, array_1])"
      ],
      "execution_count": null,
      "outputs": []
    },
    {
      "cell_type": "code",
      "metadata": {
        "id": "3bgtiAgtxbFo"
      },
      "source": [
        "np.vstack([array_1, array_2, array_1])"
      ],
      "execution_count": null,
      "outputs": []
    },
    {
      "cell_type": "code",
      "metadata": {
        "id": "v8sLDA9Mxrg7"
      },
      "source": [
        "np.dstack([array_1, array_2, array_1])"
      ],
      "execution_count": null,
      "outputs": []
    },
    {
      "cell_type": "markdown",
      "metadata": {
        "id": "hVLsd4dRynKs"
      },
      "source": [
        "## Mathematical operations\n",
        "As stated before\n",
        "\n",
        "> NumPy arrays facilitate advanced mathematical and other types of operations on large numbers of data. Typically, such operations are executed more efficiently and with less code than is possible using Python’s built-in sequences.\n",
        "\n",
        "Let us observe some examples.\n",
        "\n"
      ]
    },
    {
      "cell_type": "code",
      "metadata": {
        "id": "YEZXVI031blS"
      },
      "source": [
        "x = np.arange(0, 3, 1)\n",
        "y = np.arange(3, 6, 1)\n",
        "\n",
        "x, y"
      ],
      "execution_count": null,
      "outputs": []
    },
    {
      "cell_type": "markdown",
      "metadata": {
        "id": "-ueTCTNM10NF"
      },
      "source": [
        "#### Elementwise\n",
        "\n",
        "Basic mathematical operations will be applied to the arrays elementwise."
      ]
    },
    {
      "cell_type": "code",
      "metadata": {
        "id": "MEg62Rxz2H9j"
      },
      "source": [
        "2 * x"
      ],
      "execution_count": null,
      "outputs": []
    },
    {
      "cell_type": "code",
      "metadata": {
        "id": "_EWYjqsF2J5L"
      },
      "source": [
        "x * 2"
      ],
      "execution_count": null,
      "outputs": []
    },
    {
      "cell_type": "code",
      "metadata": {
        "id": "-ngJGA2P2OGr"
      },
      "source": [
        "np.sin(x)"
      ],
      "execution_count": null,
      "outputs": []
    },
    {
      "cell_type": "code",
      "metadata": {
        "id": "mhqcwPqr2SSL"
      },
      "source": [
        "x**2"
      ],
      "execution_count": null,
      "outputs": []
    },
    {
      "cell_type": "markdown",
      "metadata": {
        "id": "k4eTsdsA2to6"
      },
      "source": [
        "The same applies to the binary (taking two arguments) operators and arrays of the same shape."
      ]
    },
    {
      "cell_type": "code",
      "metadata": {
        "id": "k8j2TfWS2zy5"
      },
      "source": [
        "x + y"
      ],
      "execution_count": null,
      "outputs": []
    },
    {
      "cell_type": "code",
      "metadata": {
        "id": "ApB4OBh720_h"
      },
      "source": [
        "x * y"
      ],
      "execution_count": null,
      "outputs": []
    },
    {
      "cell_type": "code",
      "metadata": {
        "id": "jnuLk9XV3AmH"
      },
      "source": [
        "x / y"
      ],
      "execution_count": null,
      "outputs": []
    },
    {
      "cell_type": "code",
      "metadata": {
        "id": "2oE-l0QP229x"
      },
      "source": [
        "y ** x"
      ],
      "execution_count": null,
      "outputs": []
    },
    {
      "cell_type": "markdown",
      "metadata": {
        "id": "MstU73vw3GR5"
      },
      "source": [
        "#### Broadcasting\n",
        "\n",
        "When arrays have different shapes the broadcasting mechanism comes into play.\n",
        "\n",
        "The term broadcasting describes how NumPy treats arrays with different shapes during arithmetic operations. Subject to certain constraints, the smaller array is “broadcast” across the larger array so that they have compatible shapes. Broadcasting provides a means of vectorizing array operations so that looping occurs in C instead of Python. It does this without making needless copies of data and usually leads to efficient algorithm implementations.\n",
        "\n",
        "When operating on two arrays, NumPy compares their shapes element-wise. It starts with the trailing (i.e. rightmost) dimensions and works its way left. Two dimensions are compatible when\n",
        "\n",
        "- they are equal, or\n",
        "- one of them is 1\n",
        "\n",
        "If these conditions are not met, a `ValueError: operands could not be broadcast together` exception is thrown, indicating that the arrays have incompatible shapes. The size of the resulting array is the size that is not 1 along each axis of the inputs.\n",
        "\n",
        "from: https://numpy.org/devdocs/user/basics.broadcasting.html"
      ]
    },
    {
      "cell_type": "code",
      "metadata": {
        "id": "FTn0D-662Roj"
      },
      "source": [
        "x_shape = (2, 4)\n",
        "y_shape = (2, 1)\n",
        "\n",
        "x = np.ones(x_shape)\n",
        "y = np.ones(y_shape)\n",
        "\n",
        "(x + y).shape"
      ],
      "execution_count": null,
      "outputs": []
    },
    {
      "cell_type": "code",
      "metadata": {
        "id": "fEAXWJg54gC6"
      },
      "source": [
        "x_shape =    (2, 4)\n",
        "y_shape = (3, 1, 1)\n",
        "\n",
        "x = np.ones(x_shape)\n",
        "y = np.ones(y_shape)\n",
        "\n",
        "(x + y).shape"
      ],
      "execution_count": null,
      "outputs": []
    },
    {
      "cell_type": "code",
      "metadata": {
        "id": "innvq0dI4lCr"
      },
      "source": [
        "x_shape = (   1, 4)\n",
        "y_shape = (3, 2, 1)\n",
        "\n",
        "x = np.ones(x_shape)\n",
        "y = np.ones(y_shape)\n",
        "\n",
        "(x + y).shape"
      ],
      "execution_count": null,
      "outputs": []
    },
    {
      "cell_type": "markdown",
      "metadata": {
        "id": "ownJQme57_Ho"
      },
      "source": [
        "### Matrix / tensor operations\n",
        "NumPy package wouldn't be complete without means to manipulate arrays other than elementwise operations, such as most common linear algebra functionalities. See the examples below."
      ]
    },
    {
      "cell_type": "markdown",
      "metadata": {
        "id": "1sIxcKax8cg5"
      },
      "source": [
        "#### Matrix multiplication\n",
        "\n",
        "can be performed with `matmul` method"
      ]
    },
    {
      "cell_type": "code",
      "metadata": {
        "id": "YFUeAbZj8hU5"
      },
      "source": [
        "a = np.eye(3)\n",
        "a[2,2] = 2\n",
        "b = np.arange(0, 3, 1).reshape(3, 1)\n",
        "\n",
        "a"
      ],
      "execution_count": null,
      "outputs": []
    },
    {
      "cell_type": "code",
      "metadata": {
        "id": "fd41AACC_bbF"
      },
      "source": [
        "b"
      ],
      "execution_count": null,
      "outputs": []
    },
    {
      "cell_type": "code",
      "metadata": {
        "id": "Y-18NpJX_cgc"
      },
      "source": [
        "np.matmul(a, b)"
      ],
      "execution_count": null,
      "outputs": []
    },
    {
      "cell_type": "markdown",
      "metadata": {
        "id": "l20RXVxg_8nU"
      },
      "source": [
        "or `@` operand"
      ]
    },
    {
      "cell_type": "code",
      "metadata": {
        "id": "h3AHDETg_2_E"
      },
      "source": [
        "a @ b"
      ],
      "execution_count": null,
      "outputs": []
    },
    {
      "cell_type": "markdown",
      "metadata": {
        "id": "FYCic63TAcKU"
      },
      "source": [
        "Be mindfull of its varying behaviour for different input shapes\n",
        "\n",
        "- If both arguments are 2-D they are multiplied like conventional matrices.\n",
        "- If either argument is N-D, N > 2, it is treated as a stack of matrices residing in the last two indexes and broadcast accordingly.\n",
        "- If the first argument is 1-D, it is promoted to a matrix by prepending a 1 to its dimensions. After matrix multiplication the prepended 1 is removed.\n",
        "- If the second argument is 1-D, it is promoted to a matrix by appending a 1 to its dimensions. After matrix multiplication the appended 1 is removed.\n",
        "\n",
        "from: https://numpy.org/doc/stable/reference/generated/numpy.matmul.html"
      ]
    },
    {
      "cell_type": "markdown",
      "metadata": {
        "id": "0EP2MLmCBEyu"
      },
      "source": [
        "#### Dot product\n",
        "\n",
        "can be performed using `dot` method."
      ]
    },
    {
      "cell_type": "code",
      "metadata": {
        "id": "eciZI6N9BKLm"
      },
      "source": [
        "x = np.arange(0, 3, 1)\n",
        "y = np.arange(3, 6, 1)\n",
        "\n",
        "x, y"
      ],
      "execution_count": null,
      "outputs": []
    },
    {
      "cell_type": "code",
      "metadata": {
        "id": "Y-M79hhnBXVv"
      },
      "source": [
        "np.dot(x, y)"
      ],
      "execution_count": null,
      "outputs": []
    },
    {
      "cell_type": "markdown",
      "metadata": {
        "id": "QzQDjBUbBgyJ"
      },
      "source": [
        "Be mindfull of its varying behaviour for different input shapes\n",
        "\n",
        "- If both a and b are 1-D arrays, it is inner product of vectors (without complex conjugation).\n",
        "\n",
        "- If both a and b are 2-D arrays, it is matrix multiplication, but using matmul or a @ b is preferred.\n",
        "\n",
        "- If either a or b is 0-D (scalar), it is equivalent to multiply and using numpy.multiply(a, b) or a * b is preferred.\n",
        "\n",
        "- If a is an N-D array and b is a 1-D array, it is a sum product over the last axis of a and b.\n",
        "\n",
        "- If a is an N-D array and b is an M-D array (where M>=2), it is a sum product over the last axis of a and the second-to-last axis of b:\n",
        "\n",
        "  ```\n",
        "  dot(a, b)[i,j,k,m] = sum(a[i,j,:] * b[k,:,m])\n",
        "  ```\n",
        "\n",
        "from: https://numpy.org/doc/stable/reference/generated/numpy.dot.html\n"
      ]
    },
    {
      "cell_type": "markdown",
      "metadata": {
        "id": "JbHGtGv5EiRE"
      },
      "source": [
        "#### Einstein summation convention\n",
        "Einstein summation convention provide a concise way of expressing multilinear operations. You can look it up here https://mathworld.wolfram.com/EinsteinSummation.html and its NumPy specification here https://numpy.org/doc/stable/reference/generated/numpy.einsum.html.\n",
        "\n",
        "Take a look a the following ilustrative examples.\n"
      ]
    },
    {
      "cell_type": "code",
      "metadata": {
        "id": "9ceniNXgg6e2"
      },
      "source": [
        "data = np.tri(3)\n",
        "data"
      ],
      "execution_count": null,
      "outputs": []
    },
    {
      "cell_type": "code",
      "metadata": {
        "id": "fFpsXkJbhuwJ"
      },
      "source": [
        "np.einsum('ij->ji', data)  # transpose"
      ],
      "execution_count": null,
      "outputs": []
    },
    {
      "cell_type": "code",
      "metadata": {
        "id": "UZ-VcjHthZq-"
      },
      "source": [
        "np.einsum('ij->i', data)  # row sum"
      ],
      "execution_count": null,
      "outputs": []
    },
    {
      "cell_type": "code",
      "metadata": {
        "id": "jg14G-s1hm_n"
      },
      "source": [
        "np.einsum('ij->j', data)  # column sum"
      ],
      "execution_count": null,
      "outputs": []
    },
    {
      "cell_type": "code",
      "metadata": {
        "id": "UfIfVmdohHuG"
      },
      "source": [
        "np.einsum('ii->i', data)  # diagonal"
      ],
      "execution_count": null,
      "outputs": []
    },
    {
      "cell_type": "code",
      "metadata": {
        "id": "hNCFExvziiT7"
      },
      "source": [
        "vector = np.ones(3)\n",
        "vector"
      ],
      "execution_count": null,
      "outputs": []
    },
    {
      "cell_type": "code",
      "metadata": {
        "id": "xpNMIWG2imKK"
      },
      "source": [
        "np.einsum('ij,j->i', data, vector)  # matrix multiplication (matrix x vector)"
      ],
      "execution_count": null,
      "outputs": []
    },
    {
      "cell_type": "code",
      "metadata": {
        "id": "ikx6mTuWi9TF"
      },
      "source": [
        "np.einsum('ij,jk->ik', data, vector.reshape(3, 1))  # matrix multiplication (matrix x matrix)"
      ],
      "execution_count": null,
      "outputs": []
    },
    {
      "cell_type": "markdown",
      "metadata": {
        "id": "pVUdwYH3GW05"
      },
      "source": [
        "## Other operations"
      ]
    },
    {
      "cell_type": "markdown",
      "metadata": {
        "id": "eiRGlH_vGmaI"
      },
      "source": [
        "### Aggregations: mean / var\n",
        "Very often we are required to calculate some aggregations with respect to specific dimensions of an array, such as mean or variance."
      ]
    },
    {
      "cell_type": "code",
      "metadata": {
        "id": "hhyoPd_DG39a"
      },
      "source": [
        "data = np.arange(0, 20, 1).reshape(4, 5)\n",
        "data"
      ],
      "execution_count": null,
      "outputs": []
    },
    {
      "cell_type": "markdown",
      "metadata": {
        "id": "bAwNyq96HEMi"
      },
      "source": [
        "By default the whole array is aggregated"
      ]
    },
    {
      "cell_type": "code",
      "metadata": {
        "id": "qfO9vYRFGw1k"
      },
      "source": [
        "data.mean()"
      ],
      "execution_count": null,
      "outputs": []
    },
    {
      "cell_type": "markdown",
      "metadata": {
        "id": "LEWqRMUZHBXM"
      },
      "source": [
        "But aggregations can also be applied axiswise"
      ]
    },
    {
      "cell_type": "code",
      "metadata": {
        "id": "aFGA-TSDHJVd"
      },
      "source": [
        "data.mean(axis=0)"
      ],
      "execution_count": null,
      "outputs": []
    },
    {
      "cell_type": "code",
      "metadata": {
        "id": "nvqcg3nlHKkc"
      },
      "source": [
        "data.mean(axis=1)"
      ],
      "execution_count": null,
      "outputs": []
    },
    {
      "cell_type": "code",
      "metadata": {
        "id": "5Z0DPbNqHMIN"
      },
      "source": [
        "data.var(axis=0)"
      ],
      "execution_count": null,
      "outputs": []
    },
    {
      "cell_type": "code",
      "metadata": {
        "id": "3hASONdoHYJL"
      },
      "source": [
        "data.var(axis=1)"
      ],
      "execution_count": null,
      "outputs": []
    },
    {
      "cell_type": "markdown",
      "metadata": {
        "id": "iFvzhMRxNMfz"
      },
      "source": [
        "### Aggregation: quantiles\n",
        "\n",
        "Many more aggregations are possible, e.g. determining data quantiles."
      ]
    },
    {
      "cell_type": "code",
      "metadata": {
        "id": "l-psF7MTNQn1"
      },
      "source": [
        "data = np.linspace(1, 2, 101)\n",
        "\n",
        "np.quantile(data, 0.3)"
      ],
      "execution_count": null,
      "outputs": []
    },
    {
      "cell_type": "code",
      "metadata": {
        "id": "k6AJnvgXNWpX"
      },
      "source": [
        "np.quantile(data, [0.3, 0.6])"
      ],
      "execution_count": null,
      "outputs": []
    },
    {
      "cell_type": "markdown",
      "metadata": {
        "id": "4kthnaqxNdpl"
      },
      "source": [
        "### Sorting\n",
        "Arrays can be sorted. By default sorting is performed with respect to the last dimension"
      ]
    },
    {
      "cell_type": "code",
      "metadata": {
        "id": "ScuZ5wvHNnzP"
      },
      "source": [
        "data = np.array([\n",
        "  [1, 4, 2, 8, 5],\n",
        "  [2, 3, 1, 9, 6],\n",
        "  [8, 2, 3, 7, 4],\n",
        "])\n",
        "\n",
        "np.sort(data)"
      ],
      "execution_count": null,
      "outputs": []
    },
    {
      "cell_type": "markdown",
      "metadata": {
        "id": "T5MVQ6L-ONtN"
      },
      "source": [
        "but sorting dimension can be explicitly specified."
      ]
    },
    {
      "cell_type": "code",
      "metadata": {
        "id": "V-uLaC9dN4z2"
      },
      "source": [
        "np.sort(data, axis=0)"
      ],
      "execution_count": null,
      "outputs": []
    },
    {
      "cell_type": "code",
      "metadata": {
        "id": "gPM7rRJIN5zu"
      },
      "source": [
        "np.sort(data, axis=1)"
      ],
      "execution_count": null,
      "outputs": []
    },
    {
      "cell_type": "markdown",
      "metadata": {
        "id": "xI3eftldOBd-"
      },
      "source": [
        "You can also get the \"sorting permutations\" that can be used in conjunction with advanced indexing (introduced below)."
      ]
    },
    {
      "cell_type": "code",
      "metadata": {
        "id": "kz1t6vBDOcW_"
      },
      "source": [
        "np.argsort(data, axis=0)"
      ],
      "execution_count": null,
      "outputs": []
    },
    {
      "cell_type": "code",
      "metadata": {
        "id": "HzIurHBROfbo"
      },
      "source": [
        "np.argsort(data, axis=1)"
      ],
      "execution_count": null,
      "outputs": []
    },
    {
      "cell_type": "markdown",
      "metadata": {
        "id": "P5H09Te1GiEb"
      },
      "source": [
        "## Indexing\n",
        "\n",
        "Allows selecting items and subarrays. It can be also used to modify fragments of an array."
      ]
    },
    {
      "cell_type": "markdown",
      "metadata": {
        "id": "MvDoRtmTPmDg"
      },
      "source": [
        "### Basic indexing"
      ]
    },
    {
      "cell_type": "code",
      "metadata": {
        "id": "6wNkceZBGiEc"
      },
      "source": [
        "data = np.arange(0, 16, 1)\n",
        "data"
      ],
      "execution_count": null,
      "outputs": []
    },
    {
      "cell_type": "code",
      "metadata": {
        "id": "GlNnE9I3GiEc"
      },
      "source": [
        "data[10]"
      ],
      "execution_count": null,
      "outputs": []
    },
    {
      "cell_type": "code",
      "metadata": {
        "id": "dyPC5QgnGiEd"
      },
      "source": [
        "data[-2]"
      ],
      "execution_count": null,
      "outputs": []
    },
    {
      "cell_type": "code",
      "metadata": {
        "id": "4fD0i1vPGiEd"
      },
      "source": [
        "data[:5]"
      ],
      "execution_count": null,
      "outputs": []
    },
    {
      "cell_type": "code",
      "metadata": {
        "id": "ylT1TzN8GiEd"
      },
      "source": [
        "data[::2]"
      ],
      "execution_count": null,
      "outputs": []
    },
    {
      "cell_type": "code",
      "metadata": {
        "id": "xDYxi7KZGiEd"
      },
      "source": [
        "data[-3:]"
      ],
      "execution_count": null,
      "outputs": []
    },
    {
      "cell_type": "markdown",
      "metadata": {
        "id": "XC5lLdv5GiEe"
      },
      "source": [
        "It is also possible in higher dimensional setting\n"
      ]
    },
    {
      "cell_type": "code",
      "metadata": {
        "id": "GQmHyjgnGiEe"
      },
      "source": [
        "data = data.reshape(4, 4)\n",
        "data"
      ],
      "execution_count": null,
      "outputs": []
    },
    {
      "cell_type": "code",
      "metadata": {
        "id": "inyJ51zXGiEe"
      },
      "source": [
        "data[1, 1]"
      ],
      "execution_count": null,
      "outputs": []
    },
    {
      "cell_type": "code",
      "metadata": {
        "id": "7ThXkYJHGiEe"
      },
      "source": [
        "data[1, :]"
      ],
      "execution_count": null,
      "outputs": []
    },
    {
      "cell_type": "markdown",
      "metadata": {
        "id": "pCCalPUaGiEf"
      },
      "source": [
        "One does not need to specify trailing colons `:`"
      ]
    },
    {
      "cell_type": "code",
      "metadata": {
        "id": "jkDtPEmzGiEf"
      },
      "source": [
        "data[:-2]"
      ],
      "execution_count": null,
      "outputs": []
    },
    {
      "cell_type": "markdown",
      "metadata": {
        "id": "2pEgZ0mXGiEf"
      },
      "source": [
        "Note how the column selection is achieved. In this case `:` can't be ommited."
      ]
    },
    {
      "cell_type": "code",
      "metadata": {
        "id": "f8SRcQZtGiEf"
      },
      "source": [
        "data[:, -2:]"
      ],
      "execution_count": null,
      "outputs": []
    },
    {
      "cell_type": "markdown",
      "metadata": {
        "id": "jNCnnDAvGiEf"
      },
      "source": [
        "One group of subsequent colons `:` can be replaced with `...`"
      ]
    },
    {
      "cell_type": "code",
      "metadata": {
        "id": "BTWokDfAGiEg"
      },
      "source": [
        "data_reshaped = data.reshape(4, 2, 2)\n",
        "data_reshaped"
      ],
      "execution_count": null,
      "outputs": []
    },
    {
      "cell_type": "code",
      "metadata": {
        "id": "ckI7EDwNGiEg"
      },
      "source": [
        "data_reshaped[..., 0]"
      ],
      "execution_count": null,
      "outputs": []
    },
    {
      "cell_type": "markdown",
      "metadata": {
        "id": "Y28i1ixMGiEg"
      },
      "source": [
        "Note the difference"
      ]
    },
    {
      "cell_type": "code",
      "metadata": {
        "id": "-vSdeG8iGiEg"
      },
      "source": [
        "data_reshaped[:, 0]"
      ],
      "execution_count": null,
      "outputs": []
    },
    {
      "cell_type": "markdown",
      "metadata": {
        "id": "y8Fbg4skPhZI"
      },
      "source": [
        "### View & copies\n",
        "\n",
        "Basic indexing routines presented above return views of the data in the underlying arrays. When the underlying array is modified the changes are reflected in the view."
      ]
    },
    {
      "cell_type": "code",
      "metadata": {
        "id": "4DnGEbkeQInP"
      },
      "source": [
        "data = np.arange(0, 16, 1).reshape(4, 4)\n",
        "data"
      ],
      "execution_count": null,
      "outputs": []
    },
    {
      "cell_type": "code",
      "metadata": {
        "id": "BduCu6bPQKS2"
      },
      "source": [
        "view = data[:, 3]\n",
        "view"
      ],
      "execution_count": null,
      "outputs": []
    },
    {
      "cell_type": "code",
      "metadata": {
        "id": "KRNJxUnvQTIM"
      },
      "source": [
        "data *= 2\n",
        "data"
      ],
      "execution_count": null,
      "outputs": []
    },
    {
      "cell_type": "code",
      "metadata": {
        "id": "DnPAbJujQVic"
      },
      "source": [
        "view"
      ],
      "execution_count": null,
      "outputs": []
    },
    {
      "cell_type": "markdown",
      "metadata": {
        "id": "Yxv8dzR_RFml"
      },
      "source": [
        "To \"detach\" view from the underlying array use `copy` method"
      ]
    },
    {
      "cell_type": "code",
      "metadata": {
        "id": "87ttHjjmRMgO"
      },
      "source": [
        "view_copy = view.copy()\n",
        "data *= 2\n",
        "view, view_copy"
      ],
      "execution_count": null,
      "outputs": []
    },
    {
      "cell_type": "markdown",
      "metadata": {
        "id": "YEUyRMzOROEG"
      },
      "source": [
        "Views are only possible when selecting with slices, then it's a matter of rememebering offset and stride only.\n",
        "\n",
        "You can read more about this here: https://scipy-cookbook.readthedocs.io/items/ViewsVsCopies.html"
      ]
    },
    {
      "cell_type": "markdown",
      "metadata": {
        "id": "a9gLMTtZSgCY"
      },
      "source": [
        "### Advanced indexing\n",
        "\n",
        "it is also possible to index with integer or boolean arrays"
      ]
    },
    {
      "cell_type": "code",
      "metadata": {
        "id": "Ts1DkP6sSfNg"
      },
      "source": [
        "data = np.arange(0, 16, 1).reshape(4, 4)\n",
        "data"
      ],
      "execution_count": null,
      "outputs": []
    },
    {
      "cell_type": "markdown",
      "metadata": {
        "id": "CgrvZDQSTZRj"
      },
      "source": [
        "We can select specific rows"
      ]
    },
    {
      "cell_type": "code",
      "metadata": {
        "id": "isgJivWfTUg0"
      },
      "source": [
        "data[[0, 3]]"
      ],
      "execution_count": null,
      "outputs": []
    },
    {
      "cell_type": "markdown",
      "metadata": {
        "id": "aDuYknJ4TdnS"
      },
      "source": [
        "and columns."
      ]
    },
    {
      "cell_type": "code",
      "metadata": {
        "id": "FIqWs6WfTfMs"
      },
      "source": [
        "data[:, [0, 3]]"
      ],
      "execution_count": null,
      "outputs": []
    },
    {
      "cell_type": "markdown",
      "metadata": {
        "id": "0cdJAq02TgUV"
      },
      "source": [
        "Seleceting both together is a little more complicated"
      ]
    },
    {
      "cell_type": "code",
      "metadata": {
        "id": "4iO4znPzTode"
      },
      "source": [
        "rows = [\n",
        " [0, 0],\n",
        " [3, 3]\n",
        "]\n",
        "columns = [\n",
        " [0, 3],\n",
        " [0, 3]\n",
        "]\n",
        "data[rows, columns]"
      ],
      "execution_count": null,
      "outputs": []
    },
    {
      "cell_type": "markdown",
      "metadata": {
        "id": "nIk5ZE8kUaUa"
      },
      "source": [
        "Use indices shape to control the output shape."
      ]
    },
    {
      "cell_type": "code",
      "metadata": {
        "id": "ljHFVBpiTmpt"
      },
      "source": [
        "rows = [0, 0, 3, 3]\n",
        "columns = [0, 3, 0, 3]\n",
        "data[rows, columns]"
      ],
      "execution_count": null,
      "outputs": []
    },
    {
      "cell_type": "markdown",
      "metadata": {
        "id": "H7MGpzdaUlmY"
      },
      "source": [
        "Boolean arrays can be used as well, though they work somewhat differently."
      ]
    },
    {
      "cell_type": "code",
      "metadata": {
        "id": "4Rc8BIDYUtvY"
      },
      "source": [
        "index = (data % 3 == 0)\n",
        "index"
      ],
      "execution_count": null,
      "outputs": []
    },
    {
      "cell_type": "code",
      "metadata": {
        "id": "E8tVnHZcUvyQ"
      },
      "source": [
        "data[index]"
      ],
      "execution_count": null,
      "outputs": []
    },
    {
      "cell_type": "markdown",
      "metadata": {
        "id": "6E13UcvQ9OGM"
      },
      "source": [
        "Its most common use case is to update array entries based on some condition."
      ]
    },
    {
      "cell_type": "code",
      "metadata": {
        "id": "ErmtBkjfuBsa"
      },
      "source": [
        "data[index] = -1\n",
        "data"
      ],
      "execution_count": null,
      "outputs": []
    },
    {
      "cell_type": "markdown",
      "metadata": {
        "id": "GQxk8eUwU59O"
      },
      "source": [
        "Detailed bahavior of indexing with boolean arrays is described here: https://numpy.org/doc/stable/reference/arrays.indexing.html#advanced-indexing"
      ]
    },
    {
      "cell_type": "markdown",
      "metadata": {
        "id": "KWErlaLBV3X8"
      },
      "source": [
        "# NumPy Exercises"
      ]
    },
    {
      "cell_type": "markdown",
      "metadata": {
        "id": "WUJrN7ZfSwud"
      },
      "source": [
        "### Exercise: multiplication table\n",
        "Create \"{0, ..., 10} x {0, ..., 10} multiplication table\" using only\n",
        "- `meshgrid` method,\n",
        "- multiplication of 1D arrays, dummy dimensions and broadcasting mechanism."
      ]
    },
    {
      "cell_type": "code",
      "metadata": {
        "id": "KyAr-VUITkWf"
      },
      "source": [
        "### YOUR CODE BEGINS HERE ###\n",
        "\n",
        "### YOUR CODE ENDS HERE ###"
      ],
      "execution_count": null,
      "outputs": []
    },
    {
      "cell_type": "code",
      "metadata": {
        "id": "yPRnWtcpS60f"
      },
      "source": [
        "### YOUR CODE BEGINS HERE ###\n",
        "\n",
        "### YOUR CODE ENDS HERE ###"
      ],
      "execution_count": null,
      "outputs": []
    },
    {
      "cell_type": "markdown",
      "metadata": {
        "id": "u_QMGc9V9dtx"
      },
      "source": [
        "### Exercise: speed comparison\n",
        "In this exercise we will measure the speed improvements due to NumPy implementation."
      ]
    },
    {
      "cell_type": "code",
      "metadata": {
        "id": "AubmFjCf9jL3"
      },
      "source": [
        "length = 10000\n",
        "a = b = np.arange(length)"
      ],
      "execution_count": null,
      "outputs": []
    },
    {
      "cell_type": "markdown",
      "metadata": {
        "id": "doxhHjb-veJ1"
      },
      "source": [
        "Write the code to calculate dotproduct of arrays `a` and `b` using only native Python funcions. Use `timeit` magic to time the execution."
      ]
    },
    {
      "cell_type": "code",
      "metadata": {
        "id": "-JgNkfE0vGdd"
      },
      "source": [
        "%%timeit\n",
        "\n",
        "### YOUR CODE BEGINS HERE ###\n",
        "\n",
        "### YOUR CODE ENDS HERE ###"
      ],
      "execution_count": null,
      "outputs": []
    },
    {
      "cell_type": "markdown",
      "metadata": {
        "id": "j1UXCSG2vRfd"
      },
      "source": [
        "Now compare the execution time with `np.dot`."
      ]
    },
    {
      "cell_type": "code",
      "metadata": {
        "id": "tmXlftPyvIEN"
      },
      "source": [
        "### YOUR CODE BEGINS HERE ###\n",
        "\n",
        "### YOUR CODE ENDS HERE ###"
      ],
      "execution_count": null,
      "outputs": []
    },
    {
      "cell_type": "markdown",
      "metadata": {
        "id": "qYQJ01iRUBFP"
      },
      "source": [
        "### Exercise: vector operations\n",
        "Calculate\n",
        "$$ \\int_0^1 \\sin(a\\cdot2\\pi x)\\sin(b\\cdot 2\\pi x)dx $$\n",
        "for\n",
        "- $a=b=1$,\n",
        "- $a=1$ and $b=2$,\n",
        "\n",
        "using discrete approximation of an integral and following NumPy functions: `linspace, sin, mean`. Do not use `vectorize`.\n"
      ]
    },
    {
      "cell_type": "code",
      "metadata": {
        "id": "YmRqKz0aZDgK"
      },
      "source": [
        "# Case a = b = 1\n",
        "### YOUR CODE BEGINS HERE ###\n",
        "\n",
        "### YOUR CODE ENDS HERE ###\n",
        "\n",
        "print(answer.round(4))\n",
        "assert np.isclose(answer, 0.5)"
      ],
      "execution_count": null,
      "outputs": []
    },
    {
      "cell_type": "code",
      "source": [
        "np.linspace(0, 1, 10, endpoint=False)\n",
        "np.linspace(0, 1, 11)[:-1]"
      ],
      "metadata": {
        "id": "KYg4sCRs7SLF"
      },
      "execution_count": null,
      "outputs": []
    },
    {
      "cell_type": "code",
      "metadata": {
        "id": "Kb19r8aEdxd_"
      },
      "source": [
        "# Case a = 1, b = 2\n",
        "### YOUR CODE BEGINS HERE ###\n",
        "\n",
        "### YOUR CODE ENDS HERE ###\n",
        "print(answer.round(4))\n",
        "assert np.isclose(answer, 0)"
      ],
      "execution_count": null,
      "outputs": []
    },
    {
      "cell_type": "markdown",
      "metadata": {
        "id": "giw7r-G8V_eM"
      },
      "source": [
        "### Exercise: vector operations ctd.\n",
        "\n",
        "Let $a_j = j$. Calculate in a similar fashion matrix $(b_{ij})_{i,j=0, ..., 4}$, where\n",
        "$$ b_{ij} = \\int_0^1 \\sin(a_i\\cdot2\\pi x)\\sin(a_j\\cdot 2\\pi x)dx. $$\n",
        "\n",
        "Try to structure your code in such a way that it would accept an arbitrary array `a`. Do not use `vectorize`."
      ]
    },
    {
      "cell_type": "code",
      "metadata": {
        "id": "uNflOF0lfcSm"
      },
      "source": [
        "a = np.arange(5)\n",
        "\n",
        "### YOUR CODE BEGINS HERE ###\n",
        "\n",
        "### YOUR CODE ENDS HERE ###\n",
        "\n",
        "print(answer.round(2))\n",
        "assert np.isclose(answer, np.diag([0, 0.5, 0.5, 0.5, 0.5])).all()"
      ],
      "execution_count": null,
      "outputs": []
    },
    {
      "cell_type": "markdown",
      "metadata": {
        "id": "s_L1zNkbjME2"
      },
      "source": [
        "### Exercise: subarrays\n",
        "\n",
        "Let us sample $n=100 000$ standard normal random variables. Calculate mean of values greater than zero."
      ]
    },
    {
      "cell_type": "code",
      "metadata": {
        "id": "05Ei2vVujnT7"
      },
      "source": [
        "np.random.seed(0)\n",
        "\n",
        "n = 100000\n",
        "sample = np.random.randn(n)\n",
        "\n",
        "### YOUR CODE BEGINS HERE ###\n",
        "\n",
        "### YOUR CODE ENDS HERE ###\n",
        "\n",
        "assert np.isclose(answer, np.sqrt(2/np.pi), rtol=0.01)"
      ],
      "execution_count": null,
      "outputs": []
    },
    {
      "cell_type": "markdown",
      "metadata": {
        "id": "_5EssMSuymmz"
      },
      "source": [
        "### Exercise: subarrays ctd.\n",
        "Let us sample an array of random integers.\n",
        "1. Select columns for which sum of its values gives remainder = 1 when divided by 3.\n",
        "2. Change entries in that columns to ones.\n",
        "3. Calculate sum of all entries."
      ]
    },
    {
      "cell_type": "code",
      "metadata": {
        "id": "gdtGB0SUyqcT"
      },
      "source": [
        "np.random.seed(0)\n",
        "sample = np.random.randint(0, 3, size=(10, 10))\n",
        "\n",
        "### YOUR CODE BEGINS HERE ###\n",
        "\n",
        "### YOUR CODE ENDS HERE ###\n",
        "\n",
        "assert answer == 88"
      ],
      "execution_count": null,
      "outputs": []
    },
    {
      "cell_type": "markdown",
      "metadata": {
        "id": "dylMl_qMmsGN"
      },
      "source": [
        "\n",
        "### Exercise: matrix multiplication & merging arrays\n",
        "\n",
        "In this exercies we will approximate operator norm of some matrices.\n",
        "\n",
        "1. Create an an array of $n=1000$ vectors $v\\in\\mathbb{R}^2$ \"evenly spaced\" on the unit circle.\n",
        "2. Combine given three matrices into one array.\n",
        "3. Use **one** matrix multiplication operation with these arrays to obtain matrix products of all the vectors with all the matrices.\n",
        "4. For each vector calculate its (euclidean) length.\n",
        "5. Take maximum with respect to each matrix.\n",
        "6. You should obtain three values representing approximations of operator norm of provided matrices.\n"
      ]
    },
    {
      "cell_type": "code",
      "metadata": {
        "id": "6-aovP6NoEKt"
      },
      "source": [
        "matrix_1 = np.array([\n",
        "  [1, 0],\n",
        "  [0, 1]\n",
        "])\n",
        "\n",
        "matrix_2 = np.array([\n",
        "  [1, 1],\n",
        "  [1, 1]\n",
        "])\n",
        "\n",
        "matrix_3 = np.array([\n",
        "  [1, 1],\n",
        "  [0, 1]\n",
        "])\n",
        "\n",
        "### YOUR CODE BEGINS HERE ###\n",
        "\n",
        "### YOUR CODE ENDS HERE ###\n",
        "\n",
        "print(answer.round(4))\n",
        "assert np.isclose(answer, [1, 2, (1+np.sqrt(5))/2]).all()"
      ],
      "execution_count": null,
      "outputs": []
    },
    {
      "cell_type": "markdown",
      "metadata": {
        "id": "eq-L2oL9A5Hz"
      },
      "source": [
        "## Other NumPy functionalities\n",
        "NumPy package implements plethora of mathematical functionalities, not covered in this tutorial. NumPy User guide and API Reference are great starting point to discover those functionalities:\n",
        "- https://numpy.org/doc/stable/user/\n",
        "- https://numpy.org/doc/stable/reference/"
      ]
    },
    {
      "cell_type": "markdown",
      "metadata": {
        "id": "wfF_VgCsYXL-"
      },
      "source": [
        "\n",
        "# What is pandas?\n",
        "\n",
        "Pandas is a fast, powerful, flexible and easy to use open source data analysis and manipulation tool,\n",
        "built on top of the Python programming language.\n",
        "\n",
        "It is meant for manipulating datasets in tabular format, that is 2D arrays with rows representing observations and columns representing variables, the so called **DataFrames**.\n",
        "\n",
        "from: https://pandas.pydata.org/"
      ]
    },
    {
      "cell_type": "markdown",
      "metadata": {
        "id": "YEsU_HbrTbU9"
      },
      "source": [
        "### Creating dataframes"
      ]
    },
    {
      "cell_type": "markdown",
      "metadata": {
        "id": "KSZnWr_OT5SO"
      },
      "source": [
        "In the most basic form you just specify 2D array of values"
      ]
    },
    {
      "cell_type": "code",
      "metadata": {
        "id": "rhQ20UgCRSCw"
      },
      "source": [
        "import pandas as pd\n",
        "import numpy as np\n",
        "\n",
        "df = pd.DataFrame(\n",
        "    np.arange(0, 16, 1).reshape(4, 4)\n",
        ")\n",
        "\n",
        "df"
      ],
      "execution_count": null,
      "outputs": []
    },
    {
      "cell_type": "markdown",
      "metadata": {
        "id": "VCsvnayJUTWg"
      },
      "source": [
        "It is possible to additionally specify columns and index labels"
      ]
    },
    {
      "cell_type": "code",
      "metadata": {
        "id": "xD4KZXGAUCgO"
      },
      "source": [
        "df = pd.DataFrame(\n",
        "    np.arange(0, 16, 1).reshape(4, 4),\n",
        "    columns = ['column_1', 'column_2', 'column_3', 'column_4'],\n",
        "    index   = ['a', 'b', 'c', 'd']\n",
        ")\n",
        "\n",
        "df"
      ],
      "execution_count": null,
      "outputs": []
    },
    {
      "cell_type": "markdown",
      "metadata": {
        "id": "ZycNpPSvDMUy"
      },
      "source": [
        "as well as type of entries"
      ]
    },
    {
      "cell_type": "code",
      "metadata": {
        "id": "5-4MyYLQDS2s"
      },
      "source": [
        "df = pd.DataFrame(\n",
        "    np.arange(0, 16, 1).reshape(4, 4),\n",
        "    columns = ['column_1', 'column_2', 'column_3', 'column_4'],\n",
        "    index   = ['a', 'b', 'c', 'd'],\n",
        "    dtype   = float\n",
        ")\n",
        "\n",
        "df"
      ],
      "execution_count": null,
      "outputs": []
    },
    {
      "cell_type": "code",
      "metadata": {
        "id": "s4UWEfYWDtLI"
      },
      "source": [
        "df.astype(int)"
      ],
      "execution_count": null,
      "outputs": []
    },
    {
      "cell_type": "markdown",
      "metadata": {
        "id": "w45iqHKfUoLh"
      },
      "source": [
        "It can be done in an alternative manner"
      ]
    },
    {
      "cell_type": "code",
      "metadata": {
        "id": "bn_YerWOUsn4"
      },
      "source": [
        "df = pd.DataFrame(\n",
        "    {\n",
        "      'column_1': [0,  4,  8, 12],\n",
        "      'column_2': [1,  5,  9, 13],\n",
        "      'column_3': [2,  6, 10, 14],\n",
        "      'column_4': [3,  7, 11, 15]\n",
        "    },\n",
        "    index   = ['a', 'b', 'c', 'd']\n",
        ")\n",
        "\n",
        "df"
      ],
      "execution_count": null,
      "outputs": []
    },
    {
      "cell_type": "markdown",
      "metadata": {
        "id": "GrgbIQZIbeht"
      },
      "source": [
        "It is worth mentioning that the underlying data can be accesed under `values` attribute"
      ]
    },
    {
      "cell_type": "code",
      "metadata": {
        "id": "M8MRnPwKblIu"
      },
      "source": [
        "df.values"
      ],
      "execution_count": null,
      "outputs": []
    },
    {
      "cell_type": "markdown",
      "metadata": {
        "id": "vuKTe85p1lmN"
      },
      "source": [
        "What's important Pandas DataFrames can handle entries of different type. In the most common situation different columns will have different types."
      ]
    },
    {
      "cell_type": "code",
      "metadata": {
        "id": "wD02VmqJ2ADh"
      },
      "source": [
        "df = pd.DataFrame(\n",
        "    {\n",
        "      'integers': [0,   1,   2,  3],\n",
        "      'floats':   [1.0, 2.0, 3,  4],\n",
        "      'booleans': [True, False, True, False],\n",
        "      'arbitrary objects':  [0, 1.0, 'abc', False]\n",
        "    }\n",
        ")\n",
        "\n",
        "df"
      ],
      "execution_count": null,
      "outputs": []
    },
    {
      "cell_type": "code",
      "metadata": {
        "id": "jL1NvTVo2rQ5"
      },
      "source": [
        "df.dtypes"
      ],
      "execution_count": null,
      "outputs": []
    },
    {
      "cell_type": "markdown",
      "metadata": {
        "id": "cfjchzQODghh"
      },
      "source": [
        "Another available creation methods are listed below\n",
        "- `pd.DataFrame.from_dict`\n",
        "- `pd.DataFrame.from_records`\n",
        "\n",
        "You can read about them here: https://pandas.pydata.org/docs/reference/api/pandas.DataFrame.html"
      ]
    },
    {
      "cell_type": "markdown",
      "metadata": {
        "id": "OvYgdfx_SB9B"
      },
      "source": [
        "### Loading data\n",
        "Let us peek into the CSV file conveniently provided in the Google Colab runtime"
      ]
    },
    {
      "cell_type": "code",
      "metadata": {
        "id": "rA5uPiERSD3Q"
      },
      "source": [
        "!head './sample_data/california_housing_train.csv'"
      ],
      "execution_count": null,
      "outputs": []
    },
    {
      "cell_type": "markdown",
      "metadata": {
        "id": "-zGbvmsh5Icl"
      },
      "source": [
        "*and* load it using `pd.read_csv` method."
      ]
    },
    {
      "cell_type": "code",
      "metadata": {
        "id": "xJJm3_N4VnOv"
      },
      "source": [
        "pd.read_csv('./sample_data/california_housing_train.csv')"
      ],
      "execution_count": null,
      "outputs": []
    },
    {
      "cell_type": "markdown",
      "source": [],
      "metadata": {
        "id": "EeehJSbezuni"
      }
    },
    {
      "cell_type": "markdown",
      "metadata": {
        "id": "-D51DYmy5QdA"
      },
      "source": [
        "In Pandas it is also possible to load JSON files."
      ]
    },
    {
      "cell_type": "code",
      "metadata": {
        "id": "jSdvfe-4VYXr"
      },
      "source": [
        "!head './sample_data/anscombe.json'"
      ],
      "execution_count": null,
      "outputs": []
    },
    {
      "cell_type": "code",
      "metadata": {
        "id": "N0rG07WBVkvz"
      },
      "source": [
        "pd.read_json('./sample_data/anscombe.json')"
      ],
      "execution_count": null,
      "outputs": []
    },
    {
      "cell_type": "markdown",
      "metadata": {
        "id": "ugMRMTAi5iV5"
      },
      "source": [
        "## Other I/O functionalities\n",
        "They are listed here https://pandas.pydata.org/pandas-docs/stable/user_guide/io.html and are suitable for: XML, HDF, Feather, Parquet files as well as for interaction with various databases and much more."
      ]
    },
    {
      "cell_type": "markdown",
      "metadata": {
        "id": "5ECXIMVASJ57"
      },
      "source": [
        "## Handling missing data and duplicates\n",
        "\n",
        "In the real world it's often the case that there are missing or duplicate values in the dataset. They can be easily delt with in Pandas."
      ]
    },
    {
      "cell_type": "code",
      "metadata": {
        "id": "azd0OHckW_P5"
      },
      "source": [
        "df = pd.DataFrame([\n",
        "  [0,       1     ],\n",
        "  [2,       0     ],\n",
        "  [2,       np.nan],\n",
        "  [np.nan,  np.nan]\n",
        "])\n",
        "\n",
        "df"
      ],
      "execution_count": null,
      "outputs": []
    },
    {
      "cell_type": "markdown",
      "metadata": {
        "id": "S9gRcGqm6ShT"
      },
      "source": [
        "Incomplete observations can be filtered out."
      ]
    },
    {
      "cell_type": "code",
      "metadata": {
        "id": "ylwDhz21XX-w"
      },
      "source": [
        "df.dropna()"
      ],
      "execution_count": null,
      "outputs": []
    },
    {
      "cell_type": "code",
      "metadata": {
        "id": "XDHte120XZfS"
      },
      "source": [
        "df.dropna(how='all')"
      ],
      "execution_count": null,
      "outputs": []
    },
    {
      "cell_type": "markdown",
      "metadata": {
        "id": "rNO5nXsc6XX8"
      },
      "source": [
        "It is also possible to \"fill the gaps\"."
      ]
    },
    {
      "cell_type": "code",
      "metadata": {
        "id": "XocA7HizXnpw"
      },
      "source": [
        "df.fillna(0)"
      ],
      "execution_count": null,
      "outputs": []
    },
    {
      "cell_type": "code",
      "metadata": {
        "id": "bmrjskmCCdzQ"
      },
      "source": [
        "df.fillna(0).drop_duplicates()"
      ],
      "execution_count": null,
      "outputs": []
    },
    {
      "cell_type": "code",
      "metadata": {
        "id": "aT9oJBDvXqQJ"
      },
      "source": [
        "df.fillna({0: 0, 1: 1})"
      ],
      "execution_count": null,
      "outputs": []
    },
    {
      "cell_type": "markdown",
      "metadata": {
        "id": "VA7EHyHjsSpc"
      },
      "source": [
        "## Data access\n",
        "\n",
        "Let us observe how we can access and manipulate DataFrame structure."
      ]
    },
    {
      "cell_type": "code",
      "metadata": {
        "id": "tVLuKfmLX0y5"
      },
      "source": [
        "df = pd.read_csv('./sample_data/california_housing_train.csv')\n",
        "df"
      ],
      "execution_count": null,
      "outputs": []
    },
    {
      "cell_type": "markdown",
      "metadata": {
        "id": "CASPRMoexl7a"
      },
      "source": [
        "### describe & info\n",
        "Once the dataframe is loaded `describe` and `info`methods provide an easy way to obtain a high level view of the underlying data."
      ]
    },
    {
      "cell_type": "code",
      "metadata": {
        "id": "HMwnatJGxzfC"
      },
      "source": [
        "df.describe()"
      ],
      "execution_count": null,
      "outputs": []
    },
    {
      "cell_type": "code",
      "metadata": {
        "id": "_Q2N98_Ex0mC"
      },
      "source": [
        "df.info()"
      ],
      "execution_count": null,
      "outputs": []
    },
    {
      "cell_type": "markdown",
      "metadata": {
        "id": "qSPgCTze7xev"
      },
      "source": [
        "### head & tail\n",
        "we can use these methods to look at the first and last entries"
      ]
    },
    {
      "cell_type": "code",
      "metadata": {
        "id": "XO5Etmdc75s0"
      },
      "source": [
        "df.head()"
      ],
      "execution_count": null,
      "outputs": []
    },
    {
      "cell_type": "code",
      "metadata": {
        "id": "_2KrT5a877XP"
      },
      "source": [
        "df.tail()"
      ],
      "execution_count": null,
      "outputs": []
    },
    {
      "cell_type": "code",
      "metadata": {
        "id": "wpXzcAu578ek"
      },
      "source": [
        "df.head(8)"
      ],
      "execution_count": null,
      "outputs": []
    },
    {
      "cell_type": "markdown",
      "metadata": {
        "id": "GJEDUNSz8EG4"
      },
      "source": [
        "### rename\n",
        "can be used to rename column labels."
      ]
    },
    {
      "cell_type": "code",
      "metadata": {
        "id": "f5S_0fIPsmIs"
      },
      "source": [
        "df.rename(columns={'longitude': 'lon', 'latitude': 'lat'})"
      ],
      "execution_count": null,
      "outputs": []
    },
    {
      "cell_type": "markdown",
      "source": [],
      "metadata": {
        "id": "5G4NlRZN1GYY"
      }
    },
    {
      "cell_type": "markdown",
      "metadata": {
        "id": "O9Pfc03O8N2B"
      },
      "source": [
        "### Accessing a subset of data"
      ]
    },
    {
      "cell_type": "markdown",
      "metadata": {
        "id": "r2Jxjtny8WyB"
      },
      "source": [
        "To select multiple columns specify list of labels within square brackets."
      ]
    },
    {
      "cell_type": "code",
      "metadata": {
        "id": "sXb7ShyGsaVI"
      },
      "source": [
        "df[['longitude', 'latitude']]"
      ],
      "execution_count": null,
      "outputs": []
    },
    {
      "cell_type": "markdown",
      "metadata": {
        "id": "pkX70vjk8pJC"
      },
      "source": [
        "Single column can be retrieved by specifying its name within square brackets. Note that this will yield a `Series` object which behaves a little different than DataFrames, but in general is a representation of single varaible values."
      ]
    },
    {
      "cell_type": "code",
      "metadata": {
        "id": "L4TKWFRysdgU"
      },
      "source": [
        "df['longitude']"
      ],
      "execution_count": null,
      "outputs": []
    },
    {
      "cell_type": "markdown",
      "metadata": {
        "id": "fmkR75Bo9CCy"
      },
      "source": [
        "If column name does not contain spaces and other special character it can accesed as an attribute."
      ]
    },
    {
      "cell_type": "code",
      "metadata": {
        "id": "XY9e9ZGS9LLs"
      },
      "source": [
        "df.longitude"
      ],
      "execution_count": null,
      "outputs": []
    },
    {
      "cell_type": "markdown",
      "metadata": {
        "id": "m2gC4xbr9P_F"
      },
      "source": [
        "Subset of a DataFrame can be selected using `loc` attribute. You need to specify index and column labels. Note that it supports slicing with respect to column names. Also, as [documentation](https://pandas.pydata.org/pandas-docs/version/0.15.2/indexing.html#different-choices-for-indexing) says *note that contrary to usual python slices, both the start and the stop are included!*."
      ]
    },
    {
      "cell_type": "code",
      "metadata": {
        "id": "vKOv3ZxqwkBO"
      },
      "source": [
        "df.loc[5:10, 'population': 'median_house_value']"
      ],
      "execution_count": null,
      "outputs": []
    },
    {
      "cell_type": "markdown",
      "metadata": {
        "id": "Hm0rnWF_SL3a"
      },
      "source": [
        "It also possible to select data with slices correspong to indices and columns **positions** (as in NumPy)."
      ]
    },
    {
      "cell_type": "code",
      "metadata": {
        "id": "E2i7VKPuw5HR"
      },
      "source": [
        "df.iloc[5:10, -4:]"
      ],
      "execution_count": null,
      "outputs": []
    },
    {
      "cell_type": "markdown",
      "metadata": {
        "id": "KbAv19uE9s9F"
      },
      "source": [
        "Boolean arrays (including boolean `Series` object) can be used as well."
      ]
    },
    {
      "cell_type": "code",
      "metadata": {
        "id": "4n57Qr-1xEX-"
      },
      "source": [
        "index = df.median_house_value < 25000\n",
        "index"
      ],
      "execution_count": null,
      "outputs": []
    },
    {
      "cell_type": "code",
      "metadata": {
        "id": "oXaFM6W2xXPP"
      },
      "source": [
        "df.loc[index, 'median_house_value']"
      ],
      "execution_count": null,
      "outputs": []
    },
    {
      "cell_type": "markdown",
      "metadata": {
        "id": "m05c1SiSxkCS"
      },
      "source": [
        "It is also possible to do"
      ]
    },
    {
      "cell_type": "code",
      "metadata": {
        "id": "SzFqHh3q-Kc2"
      },
      "source": [
        "df[index]"
      ],
      "execution_count": null,
      "outputs": []
    },
    {
      "cell_type": "markdown",
      "metadata": {
        "id": "ab4hdqAs-64J"
      },
      "source": [
        "## Merging dataframes\n",
        "can be used to merge multiple arrays into one.\n"
      ]
    },
    {
      "cell_type": "code",
      "metadata": {
        "id": "Ehwv1RhsJNTG"
      },
      "source": [
        "df_1 = pd.DataFrame(np.arange(9).reshape(3, 3), columns=['a', 'b', 'c'], index=[0, 1, 2])\n",
        "df_2 = pd.DataFrame(np.arange(9).reshape(3, 3), columns=['b', 'c', 'd'], index=[1, 2, 3])"
      ],
      "execution_count": null,
      "outputs": []
    },
    {
      "cell_type": "code",
      "metadata": {
        "id": "4FWYHpzJJjbR"
      },
      "source": [
        "df_1"
      ],
      "execution_count": null,
      "outputs": []
    },
    {
      "cell_type": "code",
      "metadata": {
        "id": "mR2ylFkxJkYZ"
      },
      "source": [
        "df_2"
      ],
      "execution_count": null,
      "outputs": []
    },
    {
      "cell_type": "markdown",
      "metadata": {
        "id": "fNnkUNbsMBBR"
      },
      "source": [
        "There are to basic methods for merging dataframes. The first one is `append` that concatenates dataframes along the index."
      ]
    },
    {
      "cell_type": "code",
      "metadata": {
        "id": "CbrEz7PsKCh6"
      },
      "source": [
        "df_1 = pd.concat([df_1, df_2])"
      ],
      "execution_count": null,
      "outputs": []
    },
    {
      "cell_type": "markdown",
      "metadata": {
        "id": "6D3UJTGjMcDK"
      },
      "source": [
        "The second one is join that concatenates dataframes along the columns."
      ]
    },
    {
      "cell_type": "code",
      "metadata": {
        "id": "3myHk6j0LRWw"
      },
      "source": [
        "df_1.join(df_2, how='outer', lsuffix='_left', rsuffix='_right')"
      ],
      "execution_count": null,
      "outputs": []
    },
    {
      "cell_type": "markdown",
      "metadata": {
        "id": "x9T6GnbdLGdm"
      },
      "source": [
        "These two methods are special cases of more general function `concat` that allows more advanced oprations. There is also `merge` method which makes use of database-like joins.\n",
        "\n",
        "All of these methods are described and explained here: https://pandas.pydata.org/pandas-docs/stable/user_guide/merging.html"
      ]
    },
    {
      "cell_type": "markdown",
      "metadata": {
        "id": "uDCPw8QxBW_-"
      },
      "source": [
        "## Operations on dataframes\n",
        "Pandas can be used to perfrom mathematical and other operations on the underlying data."
      ]
    },
    {
      "cell_type": "markdown",
      "metadata": {
        "id": "CGsOofdMBok3"
      },
      "source": [
        "### Elementwise operations\n",
        "The most common use case is to create a new column being a result of some operation on existing columns."
      ]
    },
    {
      "cell_type": "code",
      "metadata": {
        "id": "EFcS4WvcD6J6"
      },
      "source": [
        "people_per_household = df.population / df.households\n",
        "people_per_household"
      ],
      "execution_count": null,
      "outputs": []
    },
    {
      "cell_type": "code",
      "metadata": {
        "id": "t6IYIl8iFHOS"
      },
      "source": [
        "df['people_per_household'] = people_per_household\n",
        "df"
      ],
      "execution_count": null,
      "outputs": []
    },
    {
      "cell_type": "markdown",
      "metadata": {
        "id": "OIMlorKU_qWL"
      },
      "source": [
        "More general function can be applied with use of `apply` method"
      ]
    },
    {
      "cell_type": "code",
      "metadata": {
        "id": "_a6iv70F_vGH"
      },
      "source": [
        "def func(row):\n",
        "  if row.latitude > 0:\n",
        "    ns_hemisphere = 'N'\n",
        "  else:\n",
        "    ns_hemisphere = 'S'\n",
        "\n",
        "  if row.longitude > 0:\n",
        "    ew_hemisphere = 'E'\n",
        "  else:\n",
        "    ew_hemisphere = 'W'\n",
        "\n",
        "  gps_label = f\"{abs(row.latitude)} {ns_hemisphere}, {abs(row.longitude)} {ew_hemisphere}\"\n",
        "\n",
        "  return gps_label\n",
        "\n",
        "df.apply(func, axis=1).head()"
      ],
      "execution_count": null,
      "outputs": []
    },
    {
      "cell_type": "markdown",
      "metadata": {
        "id": "nM5MtJy2x4GS"
      },
      "source": [
        "### GroupBy\n",
        "can be used to split a dataframe into multiple based on some condition/values"
      ]
    },
    {
      "cell_type": "code",
      "metadata": {
        "id": "dzecEgp-yPLS"
      },
      "source": [
        "values = df.median_house_value.round(-4)\n",
        "values\n"
      ],
      "execution_count": null,
      "outputs": []
    },
    {
      "cell_type": "code",
      "metadata": {
        "id": "wQjdhDwY0qhC"
      },
      "source": [
        "gb = df.groupby(values)\n",
        "gb"
      ],
      "execution_count": null,
      "outputs": []
    },
    {
      "cell_type": "markdown",
      "metadata": {
        "id": "R1OLOz_PEAJJ"
      },
      "source": [
        "Groups labels and indices can be accessed under `groups` attribute and themselves with the use of `get_group` method."
      ]
    },
    {
      "cell_type": "code",
      "metadata": {
        "id": "IDpJ8A-Ryi6p"
      },
      "source": [
        "gb.groups"
      ],
      "execution_count": null,
      "outputs": []
    },
    {
      "cell_type": "code",
      "metadata": {
        "id": "-80ppr-Ey2P9"
      },
      "source": [
        "gb.get_group(10000)"
      ],
      "execution_count": null,
      "outputs": []
    },
    {
      "cell_type": "markdown",
      "metadata": {
        "id": "6Gb9ybMCESgX"
      },
      "source": [
        "The main use case of the `groupby` functionality is to split dataframe based on some condition, perform some aggregation within groups and then join the results. An example of such an operation is calcualtin mean within each group."
      ]
    },
    {
      "cell_type": "code",
      "metadata": {
        "id": "JsZIkZLtyVki"
      },
      "source": [
        "gb.mean().head()"
      ],
      "execution_count": null,
      "outputs": []
    },
    {
      "cell_type": "markdown",
      "metadata": {
        "id": "x5pKMYQQEssJ"
      },
      "source": [
        "You can read more about `groupby` funcionality in teh pandas user guide: https://pandas.pydata.org/pandas-docs/stable/user_guide/groupby.html"
      ]
    },
    {
      "cell_type": "markdown",
      "metadata": {
        "id": "Zh6YSV42SsEc"
      },
      "source": [
        "## Pandas Exercises"
      ]
    },
    {
      "cell_type": "markdown",
      "metadata": {
        "id": "7Eps67iM_R4P"
      },
      "source": [
        "### Pandas exercise: IMDB movies\n",
        "\n",
        "In this exercise we will look into IMDB Top 1000 movies dataset. We will first load it into a dataframe.\n"
      ]
    },
    {
      "cell_type": "code",
      "metadata": {
        "id": "-fB20DPoN6U3"
      },
      "source": [
        "url = \"https://raw.githubusercontent.com/peetck/IMDB-Top1000-Movies/master/IMDB-Movie-Data.csv\"\n",
        "df = pd.read_csv(url)\n",
        "df"
      ],
      "execution_count": null,
      "outputs": []
    },
    {
      "cell_type": "markdown",
      "metadata": {
        "id": "mf18PKraGQU3"
      },
      "source": [
        "Part 1.\n",
        "\n",
        "1. How much should movie earn to be among 2% best earning movies?\n",
        "2. Select movies that earned more than this value.\n",
        "3. Calculate their mean rating."
      ]
    },
    {
      "cell_type": "code",
      "metadata": {
        "id": "PVyAopqS6_Ad"
      },
      "source": [
        "### YOUR CODE BEGINS HERE ###\n",
        "\n",
        "### YOUR CODE ENDS HERE ###"
      ],
      "execution_count": null,
      "outputs": []
    },
    {
      "cell_type": "code",
      "metadata": {
        "id": "zwsu3e9FPlgO"
      },
      "source": [
        "# Your code in cell(s) above\n",
        "assert np.isclose(answer, 7.615)"
      ],
      "execution_count": null,
      "outputs": []
    },
    {
      "cell_type": "markdown",
      "metadata": {
        "id": "lth4Je_2CsM0"
      },
      "source": [
        "Part 2.\n",
        "1. Calculate mean metascore and mean revenue per director. (use groupby)\n",
        "2. Restrict results to the directors that directed more than four movies. (look up `value_counts` method)\n",
        "3. Sort the results with respect to the metascore and display the rating as a dataframe.\n",
        "4. Who is the 3rd director it this rating and what is his/her mean revenue?"
      ]
    },
    {
      "cell_type": "code",
      "metadata": {
        "id": "aIbG4S7BCwq7"
      },
      "source": [
        "### YOUR CODE BEGINS HERE ###\n",
        "\n",
        "### YOUR CODE ENDS HERE ###"
      ],
      "execution_count": null,
      "outputs": []
    },
    {
      "cell_type": "code",
      "metadata": {
        "id": "EkeQqmiTRhuP"
      },
      "source": [
        "print(f\"Mean revenue of {director} is {revenue:.3f}.\")\n",
        "assert np.isclose(revenue, 43.242)"
      ],
      "execution_count": null,
      "outputs": []
    },
    {
      "cell_type": "markdown",
      "metadata": {
        "id": "1w5sYaTOBQ6o"
      },
      "source": [
        "### Pandas exercises: Anscombe's quartet\n",
        "\n",
        "In this exercise we will look into so called Anscombe's quartet that visualizes pitfalls of some statistics used to describe datasets\n",
        "\n",
        "![image](https://upload.wikimedia.org/wikipedia/commons/e/ec/Anscombe%27s_quartet_3.svg)"
      ]
    },
    {
      "cell_type": "markdown",
      "metadata": {
        "id": "_5hDco-JUysb"
      },
      "source": [
        "Firstly, let us load the data."
      ]
    },
    {
      "cell_type": "code",
      "metadata": {
        "id": "lrL22-ROS9K-"
      },
      "source": [
        "df = pd.read_json(\"./sample_data/anscombe.json\")\n",
        "df"
      ],
      "execution_count": null,
      "outputs": []
    },
    {
      "cell_type": "markdown",
      "metadata": {
        "id": "B_2Eosy0WSZk"
      },
      "source": [
        "For each series calculate its\n",
        "- mean value of $X$\n",
        "- mean value of $Y$\n",
        "- sample variance of $X$\n",
        "- sample variance of $Y$\n",
        "- covariance beetwen $X$ and $Y$\n",
        "\n",
        "and verify whether for each series you get\n",
        "- mean of $X$ = 9,\n",
        "- var of $X$ = 11,\n",
        "- mean of $Y$ = 7.5 +- 0.01,\n",
        "- var of $Y$ = 4.125 +- 0.01,\n",
        "- cov of $X$ and $Y$ = 5.50 +- 0.01,\n",
        "\n",
        "(you can try to make use of `aggregate` function of a `GroupBy` object)"
      ]
    },
    {
      "cell_type": "code",
      "metadata": {
        "id": "qHdlplc5ZmdQ"
      },
      "source": [
        "### YOUR CODE BEGINS HERE ###\n",
        "\n",
        "### YOUR CODE ENDS HERE ###"
      ],
      "execution_count": null,
      "outputs": []
    },
    {
      "cell_type": "markdown",
      "metadata": {
        "id": "ksT9dLxgl9je"
      },
      "source": [
        "<center><img src='https://drive.google.com/uc?id=1BXZ0u3562N_MqCLcekI-Ens77Kk4LpPm'></center>"
      ]
    }
  ]
}