{
  "nbformat": 4,
  "nbformat_minor": 0,
  "metadata": {
    "colab": {
      "provenance": []
    },
    "kernelspec": {
      "name": "python3",
      "display_name": "Python 3"
    },
    "language_info": {
      "name": "python"
    }
  },
  "cells": [
    {
      "cell_type": "code",
      "metadata": {
        "id": "DGPTGC613z19"
      },
      "source": [
        "import numpy as np"
      ],
      "execution_count": null,
      "outputs": []
    },
    {
      "cell_type": "markdown",
      "metadata": {
        "id": "20EbJv844XIj"
      },
      "source": [
        "Task\n",
        "----\n",
        "Write a snippet in python using `numpy` (loops are allowed) performing 1D convolution with fixed kernels, with one input channel and two output channels. Don't use pytorch or any other library.\n",
        "\n",
        "Change only `#TODO` items\n",
        "\n",
        "There are two kernels with weights `[1,0,-1]` (channel 0), `[0, 1, 0]` (channel 1).\n",
        "Code should be as simple as possible, we don’t need full generality (hint: kernels are known). We assume no padding (so the output of each kernel will be shorter by two elements than the input vector).\n",
        "\n",
        "Compute the gradients as well using mean squared error (sum of squares average). Use batch size=1.\n",
        "\n",
        "Example\n",
        "-----\n",
        "For input `[1, 2, 3, 4, 5]` second kernel should return `[2, 3, 4]`\n"
      ]
    },
    {
      "cell_type": "code",
      "metadata": {
        "id": "y77kNFN-3QWQ"
      },
      "source": [
        "# size of input sequence\n",
        "size = 20\n",
        "\n",
        "# DON'T CHANGE FROM HERE\n",
        "# input sequence\n",
        "np_input = np.random.rand(size)\n",
        "assert np_input.shape == (size,)\n",
        "\n",
        "# expected output, loss is calculated against this output\n",
        "np_expected = np.random.rand(2, size-2)\n",
        "assert np_expected.shape == (2,size-2)\n",
        "# DON'T CHANGE TO HERE\n",
        "\n",
        "#TODO: np_res should be numpy array, result of applying kernels to np_input\n",
        "np_res = np.random.rand(2, size-2)\n",
        "#TODO: np_grad should be numpy array, gradients\n",
        "np_grad = np.random.rand(2, 3)\n",
        "\n",
        "assert np_res.shape == (2, size-2)\n",
        "assert np_grad.shape == (2, 3)\n"
      ],
      "execution_count": null,
      "outputs": []
    }
  ]
}