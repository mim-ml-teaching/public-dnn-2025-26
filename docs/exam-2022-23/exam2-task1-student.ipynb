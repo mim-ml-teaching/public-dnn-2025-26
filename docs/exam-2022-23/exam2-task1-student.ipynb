{
  "nbformat": 4,
  "nbformat_minor": 0,
  "metadata": {
    "colab": {
      "provenance": []
    },
    "kernelspec": {
      "name": "python3",
      "display_name": "Python 3"
    },
    "language_info": {
      "name": "python"
    },
    "accelerator": "GPU",
    "gpuClass": "standard"
  },
  "cells": [
    {
      "cell_type": "markdown",
      "source": [
        "# Task 1: Simple model ensembling\n",
        "\n",
        "You are given a pipeline that trains a convolutional neural network to classify images of horses and deers from the CIFAR10 dataset. The images are 32 x 32 pixels and have 3 color channels. The example pipeline is set to train for 2 epochs in under 30 seconds, achieving > 80% accuracy on the test set. The code for this task is provided, and it is recommended that you use a GPU on Colab to ensure faster training times (but even without GPU, single model should train in around 30 seconds).\n",
        "\n",
        "Your task is to develop an ensemble of 7 networks, trained with the same architecture and data, but initialized differently and seeing different order of batches. The ensembling output should be the mean of the network outputs (logits).\n",
        "\n",
        "(Note that models will by default be initialized differently and they will by default see different order of batches; no need to do anything special.)\n",
        "\n",
        "To accomplish this, you should:\n",
        "1. Fill in the missing parts of the test_multiple function.\n",
        "2. Train 7 models and test ensemblings of different sizes (1 through 7).\n",
        "3. Plot the test accuracy and cross-entropy loss depending on the number of models in the ensemble.\n",
        "\n",
        "\n",
        "Some helpful hints:\n",
        "* You can test ensembles of different sizes by passing a subset of the models to the test function (e.g., models[:3] or models[:ensemble_size]). You don't need to train separate ensembles for each size.\n",
        "* Be sure to take the mean of the model outputs (logits) to compute cross-entropy correctly.\n",
        "* Generally, using 2-3 models will give noticeable improvement over using just one model, and adding each additional model to the ensemble gives diminishing returns.\n",
        "* It's normal for a larger ensemble to be, sometimes, slightly worse than a smaller one due to chance.\n",
        "* You may find it helpful to reference earlier code provided in the task."
      ],
      "metadata": {
        "id": "lCCsP653g3Ml"
      }
    },
    {
      "cell_type": "markdown",
      "source": [
        "# Single model training (DO NOT CHANGE THIS SECTION)"
      ],
      "metadata": {
        "id": "m1zmNraVUZVm"
      }
    },
    {
      "cell_type": "code",
      "execution_count": null,
      "metadata": {
        "id": "CrhjahCFYPMg"
      },
      "outputs": [],
      "source": [
        "import random\n",
        "import typing\n",
        "import torch\n",
        "import torch.nn as nn\n",
        "import torch.nn.functional as F\n",
        "import torch.optim as optim\n",
        "from torchvision import transforms\n",
        "from torchvision.datasets import CIFAR10\n",
        "import matplotlib.pyplot as plt\n",
        "import numpy as np\n",
        "\n",
        "np.random.seed(0)\n",
        "torch.manual_seed(0)\n",
        "random.seed(0)"
      ]
    },
    {
      "cell_type": "code",
      "source": [
        "batch_size = 500\n",
        "test_batch_size = 1000\n",
        "epochs = 2\n",
        "lr = 1e-2\n",
        "use_cuda = True\n",
        "seed = 1\n",
        "log_interval = 10\n",
        "num_models = 7"
      ],
      "metadata": {
        "id": "fvnvu6cmc0CS"
      },
      "execution_count": null,
      "outputs": []
    },
    {
      "cell_type": "code",
      "source": [
        "def extract_classes(dataset_: torch.utils.data.Dataset, class_1: str, class_2: str) -> torch.utils.data.Dataset:\n",
        "    c1_index = dataset_.classes.index(class_1)\n",
        "    c2_index = dataset_.classes.index(class_2)\n",
        "    mask = np.logical_or(np.equal(dataset_.targets, c1_index), np.equal(dataset_.targets, c2_index))\n",
        "    dataset_.data = dataset_.data[mask, :]\n",
        "    dataset_.targets = np.array(dataset_.targets)[mask]\n",
        "    dataset_.targets[dataset_.targets == c1_index] = 0\n",
        "    dataset_.targets[dataset_.targets == c2_index] = 1\n",
        "    dataset_.targets = list(dataset_.targets)\n",
        "    assert np.all(np.logical_or(np.equal(dataset_.targets, 0), np.equal(dataset_.targets, 1)))\n",
        "    return dataset_"
      ],
      "metadata": {
        "id": "GDqEP-ZgazBP"
      },
      "execution_count": null,
      "outputs": []
    },
    {
      "cell_type": "code",
      "source": [
        "transform=transforms.Compose([\n",
        "        transforms.ToTensor(),\n",
        "        transforms.Normalize((0.4914, 0.4822, 0.4465), \n",
        "                             (0.2023, 0.1994, 0.2010))\n",
        "    ])\n",
        "\n",
        "train_dataset = CIFAR10(root=\"~\", download=True, train=True, transform=transform)\n",
        "test_dataset = CIFAR10(root=\"~\", download=True, train=False, transform=transform)\n",
        "train_dataset = extract_classes(train_dataset, \"horse\", \"deer\")\n",
        "test_dataset = extract_classes(test_dataset, \"horse\", \"deer\")"
      ],
      "metadata": {
        "colab": {
          "base_uri": "https://localhost:8080/"
        },
        "id": "vr_Q9yl5YVeH",
        "outputId": "48df9f40-6e1c-4673-c144-54e729594edd"
      },
      "execution_count": null,
      "outputs": [
        {
          "output_type": "stream",
          "name": "stdout",
          "text": [
            "Files already downloaded and verified\n",
            "Files already downloaded and verified\n"
          ]
        }
      ]
    },
    {
      "cell_type": "code",
      "source": [
        "use_cuda = not use_cuda and torch.cuda.is_available()\n",
        "device = torch.device(\"cuda\" if use_cuda else \"cpu\")\n",
        "\n",
        "train_kwargs = {'batch_size': batch_size}\n",
        "test_kwargs = {'batch_size': test_batch_size}\n",
        "if use_cuda:\n",
        "    cuda_kwargs = {'num_workers': 1,\n",
        "                    'pin_memory': True,\n",
        "                    'shuffle': True}\n",
        "    train_kwargs.update(cuda_kwargs)\n",
        "    test_kwargs.update(cuda_kwargs)"
      ],
      "metadata": {
        "id": "_lnqtDuZYawJ"
      },
      "execution_count": null,
      "outputs": []
    },
    {
      "cell_type": "code",
      "source": [
        "train_loader = torch.utils.data.DataLoader(train_dataset,**train_kwargs)\n",
        "test_loader = torch.utils.data.DataLoader(test_dataset, **test_kwargs)"
      ],
      "metadata": {
        "id": "qL5uPVxcasH1"
      },
      "execution_count": null,
      "outputs": []
    },
    {
      "cell_type": "code",
      "source": [
        "class Net(nn.Module):\n",
        "    def __init__(self):\n",
        "        super(Net, self).__init__()\n",
        "        self.conv1 = nn.Conv2d(3, 10, (3,3), 1, 1)\n",
        "        self.batchnorm1 = nn.BatchNorm2d(num_features=10)\n",
        "        self.conv2 = nn.Conv2d(10, 20, (3,3), 1, 1)\n",
        "        self.batchnorm2 = nn.BatchNorm2d(num_features=20)\n",
        "        self.fc1 = nn.Linear(8*8*20, 128)\n",
        "        self.batchnorm3 = nn.BatchNorm1d(num_features=128)\n",
        "        self.fc2 = nn.Linear(128, 2)\n",
        "\n",
        "    def forward(self, x):\n",
        "        x = self.conv1(x)\n",
        "        x = self.batchnorm1(x)\n",
        "        x = F.max_pool2d(x, 2)\n",
        "        x = F.relu(x)\n",
        "        x = self.conv2(x)\n",
        "        x = self.batchnorm2(x)\n",
        "        x = F.max_pool2d(x, 2)\n",
        "        x = F.relu(x)\n",
        "        x = torch.flatten(x, 1)\n",
        "        x = self.fc1(x)\n",
        "        x = self.batchnorm3(x)\n",
        "        x = F.relu(x)\n",
        "        output = self.fc2(x)\n",
        "        return output"
      ],
      "metadata": {
        "id": "swVyEr31iJjg"
      },
      "execution_count": null,
      "outputs": []
    },
    {
      "cell_type": "code",
      "source": [
        "def train(model: nn.Module, device: torch.device, train_loader: torch.utils.data.DataLoader, optimizer: torch.optim.Adam, epoch: int, log_interval: int) -> None:\n",
        "    model.train()\n",
        "    for batch_idx, (data, target) in enumerate(train_loader):\n",
        "        data, target = data.to(device), target.to(device)\n",
        "        optimizer.zero_grad()\n",
        "        output = model(data)\n",
        "        loss = F.cross_entropy(output, target)\n",
        "        loss.backward()\n",
        "        optimizer.step()\n",
        "        if batch_idx % log_interval == 0:\n",
        "            print('Train Epoch: {} [{}/{} ({:.0f}%)]\\tLoss: {:.6f}'.format(\n",
        "                epoch, batch_idx * len(data), len(train_loader.dataset),\n",
        "                100. * batch_idx / len(train_loader), loss.item()))\n",
        "\n",
        "\n",
        "def test(model, device, test_loader) -> typing.List[float]:\n",
        "    model.eval()\n",
        "    test_loss = 0\n",
        "    correct = 0\n",
        "    with torch.no_grad():\n",
        "        for data, target in test_loader:\n",
        "            data, target = data.to(device), target.to(device)\n",
        "            output = model(data)\n",
        "            # cross_entropy expects logits, so output contains logits, not probabilities\n",
        "            test_loss += F.cross_entropy(output, target, reduction='sum').item()  # sum up batch loss\n",
        "            pred = output.argmax(dim=1, keepdim=True)  # get the index of the max log-probability\n",
        "            correct += pred.eq(target.view_as(pred)).sum().item()\n",
        "\n",
        "    test_loss /= len(test_loader.dataset)\n",
        "\n",
        "    print('\\nTest set: Average loss: {:.4f}, Accuracy: {}/{} ({:.0f}%)\\n'.format(\n",
        "        test_loss, correct, len(test_loader.dataset),\n",
        "        100. * correct / len(test_loader.dataset)))\n",
        "    \n",
        "    accuracy =  correct / len(test_loader.dataset)\n",
        "    return accuracy, test_loss"
      ],
      "metadata": {
        "id": "Abrr4f5Ecy0H"
      },
      "execution_count": null,
      "outputs": []
    },
    {
      "cell_type": "code",
      "source": [
        "model = Net()\n",
        "model.to(device)\n",
        "optimizer = optim.Adam(model.parameters(), lr=lr)\n",
        "accuracies = []\n",
        "test_losses = []\n",
        "\n",
        "# accuracy and test loss before training\n",
        "accuracy, test_loss = test(model, device, test_loader)\n",
        "accuracies.append(accuracy)\n",
        "test_losses.append(test_loss)\n",
        "\n",
        "for epoch in range(1, epochs + 1):\n",
        "    train(model, device, train_loader, optimizer, epoch, log_interval)\n",
        "    accuracy, test_loss = test(model, device, test_loader)\n",
        "    accuracies.append(accuracy)\n",
        "    test_losses.append(test_loss)"
      ],
      "metadata": {
        "id": "dn4ueA6duxHb",
        "colab": {
          "base_uri": "https://localhost:8080/"
        },
        "outputId": "57b041e5-a7b1-4de6-e8f5-157229ab6524"
      },
      "execution_count": null,
      "outputs": [
        {
          "output_type": "stream",
          "name": "stdout",
          "text": [
            "\n",
            "Test set: Average loss: 0.6957, Accuracy: 1003/2000 (50%)\n",
            "\n",
            "Train Epoch: 1 [0/10000 (0%)]\tLoss: 0.719689\n",
            "Train Epoch: 1 [5000/10000 (50%)]\tLoss: 0.500665\n",
            "\n",
            "Test set: Average loss: 0.4555, Accuracy: 1573/2000 (79%)\n",
            "\n",
            "Train Epoch: 2 [0/10000 (0%)]\tLoss: 0.442473\n",
            "Train Epoch: 2 [5000/10000 (50%)]\tLoss: 0.389480\n",
            "\n",
            "Test set: Average loss: 0.3785, Accuracy: 1660/2000 (83%)\n",
            "\n"
          ]
        }
      ]
    },
    {
      "cell_type": "code",
      "source": [
        "# Plotting accuracy and test loss with x-axis being number of epochs.\n",
        "plt.plot(accuracies)\n",
        "plt.title('accuracy vs #epochs')\n",
        "plt.show()\n",
        "plt.plot(test_losses)\n",
        "plt.title('test loss vs #epochs')\n",
        "plt.show()"
      ],
      "metadata": {
        "id": "JzPTVUm9nWvX",
        "colab": {
          "base_uri": "https://localhost:8080/",
          "height": 545
        },
        "outputId": "87dbd506-db83-44d5-8ce1-b4ccbcd35c9a"
      },
      "execution_count": null,
      "outputs": [
        {
          "output_type": "display_data",
          "data": {
            "text/plain": [
              "<Figure size 432x288 with 1 Axes>"
            ],
            "image/png": "[encoded data removed]"
          },
          "metadata": {
            "needs_background": "light"
          }
        },
        {
          "output_type": "display_data",
          "data": {
            "text/plain": [
              "<Figure size 432x288 with 1 Axes>"
            ],
            "image/png": "[encoded data removed]"
          },
          "metadata": {
            "needs_background": "light"
          }
        }
      ]
    },
    {
      "cell_type": "markdown",
      "source": [
        "# Training and Testing a Model Ensemble"
      ],
      "metadata": {
        "id": "iYLoIVrog0fm"
      }
    },
    {
      "cell_type": "code",
      "source": [
        "# Training ensembles (given)\n",
        "models = [Net() for i in range(num_models)]\n",
        "optimizers = [optim.Adam(models[i].parameters(), lr=lr) for i in range(num_models)]\n",
        "\n",
        "for i, (model, optimizer) in enumerate(zip(models, optimizers)):\n",
        "  ################################\n",
        "  # TODO: train each model for 2 epochs.\n",
        "  # No evaluation/testing needed between epochs.\n",
        "  ################################\n",
        "  # ???"
      ],
      "metadata": {
        "id": "itb2V-dhWca5"
      },
      "execution_count": null,
      "outputs": []
    },
    {
      "cell_type": "code",
      "source": [
        "def test_multiple(models: typing.List[nn.Module], device: torch.device, test_loader: torch.utils.data.DataLoader) -> typing.Tuple[float, float]:\n",
        "    for model in models:\n",
        "        model.to(device)\n",
        "        model.eval()\n",
        "    test_loss = 0\n",
        "    correct = 0\n",
        "    ################################\n",
        "    # TODO: Implement testing loop.\n",
        "    # For every test batch in the test loader, it should run each model,\n",
        "    # average their outputs, and compute accuracy and cross-entropy loss\n",
        "    # of this ensemble of models.\n",
        "    # It is recommended to base this function on test() implemented above.\n",
        "    ################################\n",
        "    \n",
        "    # ???"
      ],
      "metadata": {
        "id": "NJ8a3DnYuI3k"
      },
      "execution_count": null,
      "outputs": []
    },
    {
      "cell_type": "code",
      "source": [
        "###########################################\n",
        "# TODO: Test ensembles, then              #\n",
        "# plot ensemble size vs test accuracy and #\n",
        "# test cross-entropy loss.                #\n",
        "###########################################\n",
        "\n",
        "# Remember that you should have an ensemble size as your x-axis, and not epoch number!\n",
        "\n",
        "# ???"
      ],
      "metadata": {
        "id": "9BVnflv7mKY6"
      },
      "execution_count": null,
      "outputs": []
    }
  ]
}
